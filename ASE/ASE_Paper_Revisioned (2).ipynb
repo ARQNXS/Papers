{
 "cells": [
  {
   "cell_type": "markdown",
   "id": "573c03d1-fb08-4016-8854-491d00c0ca15",
   "metadata": {},
   "source": [
    "<link rel=\"stylesheet\" type=\"text/css\" href=\"./custom.css\">"
   ]
  },
  {
   "cell_type": "markdown",
   "id": "4fac8ca0-5f5e-4b53-a0bb-1e9f6982dfce",
   "metadata": {},
   "source": [
    "%%html\n",
    "<style>\n",
    "  body {\n",
    "    background-color: #f0f0f0;\n",
    "  }\n",
    "</style>"
   ]
  },
  {
   "cell_type": "markdown",
   "id": "a67ca094-79ed-40cc-8ac6-6dc6d743c1cf",
   "metadata": {},
   "source": [
    "# <h2 style=\"text-align: center;\">Adaptive Surrogate Ensemble Optimization for Hyperparameter Tuning: A Comparative Analysis with Random Search\n",
    "<style>\n",
    "    body {\n",
    "        font-family: \"Garamond\", Times, serif;\n",
    "        font-size: 12px;\n",
    "        \n",
    "    }\n",
    "</style>"
   ]
  },
  {
   "cell_type": "markdown",
   "id": "677d47f5-0389-4234-b521-14c89067b49d",
   "metadata": {},
   "source": [
    "<style>\n",
    "    body {\n",
    "        font-family: \"Garamond\", Times, serif;\n",
    "        font-size: 24px;\n",
    "         margin: 30mm;\n",
    "    }\n",
    "</style>\n"
   ]
  },
  {
   "cell_type": "markdown",
   "id": "6cbac027-680e-44b8-a920-8d77c0c93562",
   "metadata": {},
   "source": [
    "<p style=\"text-align: center;\">Nigel van der Laan<sup>1</sup></p>\n",
    "\n",
    "<style>\n",
    "    body {\n",
    "        font-family: \"Times New Roman\", Times, serif;\n",
    "        font-size: 13px;\n",
    "         margin: 30mm;\n",
    "    }\n",
    "</style>"
   ]
  },
  {
   "cell_type": "markdown",
   "id": "05d18412-2dca-4ce3-8a3b-0ec929a9db2b",
   "metadata": {},
   "source": [
    "<p style=\"text-align: center;\"><sup>1</sup>ARQNXS, Amsterdam, the Netherlands</p>\n",
    "<style>\n",
    "    body {\n",
    "        font-family: \"Times New Roman\", Times, serif;\n",
    "        font-size: 12px;\n",
    "         margin: 30mm;\n",
    "    }\n",
    "</style>"
   ]
  },
  {
   "cell_type": "markdown",
   "id": "9e9c7283-1f1e-46f3-bc4a-b52d2db3a37b",
   "metadata": {},
   "source": [
    "<p style=\"text-align: center;\">nigel@arqnxs.com\n",
    "<style>\n",
    "    body {\n",
    "        font-family: \"Times New Roman\", Times, serif;\n",
    "        font-size: 10px;\n",
    "         margin: 30mm;\n",
    "    }\n",
    "</style>"
   ]
  },
  {
   "cell_type": "markdown",
   "id": "c029e084-617f-42db-a4b9-ab40ee397f97",
   "metadata": {},
   "source": [
    "<style>\n",
    "    body {\n",
    "        font-family: \"Times New Roman\", Times, serif;\n",
    "        font-size: 18px;\n",
    "         margin: 30mm;\n",
    "    }\n",
    "</style>"
   ]
  },
  {
   "cell_type": "markdown",
   "id": "9145a29f-1b69-4a11-87bd-0db3c8ecb697",
   "metadata": {},
   "source": [
    "## *Abstract*\n",
    "<style>\n",
    "    body {\n",
    "        font-family: \"Times New Roman\", Times, serif;\n",
    "        font-size: 13px;\n",
    "         margin: 30mm;\n",
    "    }\n",
    "</style>"
   ]
  },
  {
   "cell_type": "markdown",
   "id": "a5c7478a-3b9e-46cc-897a-ea9b8824a0d6",
   "metadata": {},
   "source": [
    "<style>\n",
    "    body {\n",
    "        font-family: \"Times New Roman\", Times, serif;\n",
    "        font-size: 6px;\n",
    "         margin: 30mm;\n",
    "    }\n",
    "</style>"
   ]
  },
  {
   "cell_type": "markdown",
   "id": "910ad89f-16dd-40bb-b6cd-e8f3a53a42d2",
   "metadata": {},
   "source": [
    "*Hyperparameter optimization remains a critical challenge in machine learning, directly impacting model performance and generalizability. This study introduces the Adaptive Surrogate Ensemble (ASE) method for hyperparameter optimization and presents a comprehensive comparison with Random Search (RS). We evaluate these methods on the Digits and Breast Cancer datasets, analyzing their performance across multiple iterations. Our results demonstrate that ASE consistently outperforms RS in terms of stability and convergence speed, with a 15% improvement in average accuracy and a 30% reduction in performance variance. We provide a rigorous mathematical framework for ASE, including detailed algorithms and convergence analysis. Furthermore, we discuss the implications of our findings for the broader field of automated machine learning (AutoML) and propose future research directions.*\n",
    "<style>\n",
    "    body {\n",
    "        font-family: \"Times New Roman\", Times, serif;\n",
    "        font-size: 10px;\n",
    "         margin: 30mm;\n",
    "    }\n",
    "</style>"
   ]
  },
  {
   "cell_type": "markdown",
   "id": "caff0850-ddb4-4d07-9ef8-fa7797bcec65",
   "metadata": {},
   "source": [
    "<style>\n",
    "    body {\n",
    "        font-family: \"Times New Roman\", Times, serif;\n",
    "        font-size: 12px;\n",
    "         margin: 30mm;\n",
    "    }\n",
    "</style>"
   ]
  },
  {
   "cell_type": "markdown",
   "id": "9b048f86-c1b8-483e-96d5-0ad41bf6adb1",
   "metadata": {},
   "source": [
    "## *KEYWORDS*\n",
    "<style>\n",
    "    body {\n",
    "        font-family: \"Times New Roman\", Times, serif;\n",
    "        font-size: 13px;\n",
    "         margin: 30mm;\n",
    "    }\n",
    "</style>"
   ]
  },
  {
   "cell_type": "markdown",
   "id": "43cbb40e-04cc-4008-9130-2178b5c5ff9e",
   "metadata": {},
   "source": [
    "<style>\n",
    "    body {\n",
    "        font-family: \"Times New Roman\", Times, serif;\n",
    "        font-size: 6px;\n",
    "    }\n",
    "</style>"
   ]
  },
  {
   "cell_type": "markdown",
   "id": "2c2d0b77-da2c-436a-a99d-7de635de101f",
   "metadata": {},
   "source": [
    "*Hyperparameter Optimization, Adaptive Surrogate Ensemble, Random Search, Machine Learning, AutoML*\n",
    "<style>\n",
    "    body {\n",
    "        font-family: \"Times New Roman\", Times, serif;\n",
    "        font-size: 10px;\n",
    "         margin: 30mm;\n",
    "    }\n",
    "</style>"
   ]
  },
  {
   "cell_type": "markdown",
   "id": "ba21e013-d798-407d-a8e5-30f1ca9c7825",
   "metadata": {},
   "source": [
    "## 1. Introduction\n",
    "<style>\n",
    "    body {\n",
    "        font-family: \"Times New Roman\", Times, serif;\n",
    "        font-size: 13px;\n",
    "         margin: 30mm;\n",
    "    }\n",
    "</style>"
   ]
  },
  {
   "cell_type": "markdown",
   "id": "2f64efe6-4169-4b2e-acaf-7ef1601d04ce",
   "metadata": {},
   "source": [
    "<style>\n",
    "    body {\n",
    "        font-family: \"Times New Roman\", Times, serif;\n",
    "        font-size: 11px;\n",
    "         margin: 30mm;\n",
    "    }\n",
    "</style>\n",
    "Machine learning has become an indispensable tool across various domains, from computer vision and natural language processing to bioinformatics and finance. The success of machine learning models in these applications hinges not only on the quality and quantity of data but also on the careful tuning of model hyperparameters. These hyperparameters control various aspects of model behavior, from learning rates and regularization strengths to architectural decisions in neural networks, and play a crucial role in determining the model's performance, generalization ability, and computational efficiency.\n",
    "\n",
    "As the complexity of machine learning models continues to grow, particularly with the advent of deep learning, the hyperparameter space expands exponentially. This explosion in the number of possible configurations makes manual tuning not only time-consuming but often infeasible. For instance, modern deep learning models may have dozens or even hundreds of hyperparameters, creating a vast search space that is impossible to explore exhaustively. This challenge has necessitated the development of automated approaches to hyperparameter optimization, giving rise to a rich and active area of research."
   ]
  },
  {
   "cell_type": "markdown",
   "id": "16009b7e-ac3d-48ad-87a3-f00c68beb97e",
   "metadata": {},
   "source": [
    "### 1.1 The Hyperparameter Optimization Problem\n",
    "<style>\n",
    "    body {\n",
    "        font-family: \"Times New Roman\", Times, serif;\n",
    "        font-size: 12px;\n",
    "         margin: 30mm;\n",
    "    }\n",
    "</style>"
   ]
  },
  {
   "cell_type": "markdown",
   "id": "202225ea-1aab-4b65-9fb9-8021e8a0bacb",
   "metadata": {},
   "source": [
    "<style>\n",
    "    body {\n",
    "        font-family: \"Times New Roman\", Times, serif;\n",
    "        font-size: 6px;\n",
    "         margin: 30mm;\n",
    "    }\n",
    "</style>"
   ]
  },
  {
   "cell_type": "markdown",
   "id": "937b9c53-371c-4cfd-84fd-3c1c076ef13e",
   "metadata": {},
   "source": [
    "<style>\n",
    "    body {\n",
    "        font-family: \"Times New Roman\", Times, serif;\n",
    "        font-size: 11px;\n",
    "         margin: 30mm;\n",
    "    }\n",
    "</style>\n",
    "Hyperparameter optimization can be formalized as a black-box optimization problem:\n",
    "\n",
    "$$\\lambda^* \\in \\argmin_{\\lambda \\in \\tilde{\\Lambda}} c(\\lambda) = \\argmin_{\\lambda \\in \\tilde{\\Lambda}} \\widehat{GE}(I, J, \\rho, \\lambda)$$\n",
    "\n",
    "where:\n",
    "- $\\lambda^*$ denotes the optimal hyperparameter configuration\n",
    "- $\\tilde{\\Lambda}$ is the search space of possible hyperparameter configurations\n",
    "- $c(\\lambda)$ is the objective function, typically a performance metric to be minimized\n",
    "- $\\widehat{GE}(I, J, \\rho, \\lambda)$ is the estimated generalization error\n",
    "- $I$ is the machine learning algorithm or inducer\n",
    "- $J$ represents the resampling strategy (e.g., cross-validation)\n",
    "- $\\rho$ is the performance measure (e.g., error rate, negative accuracy)\n",
    "- $\\lambda$ is a specific hyperparameter configuration\n",
    "\n",
    "This formulation encapsulates the essence of the hyperparameter optimization challenge: finding the configuration $\\lambda^*$ that minimizes the generalization error, estimated through some form of resampling, for a given machine learning algorithm and The difficulty of hyperparameter optimization stems from several interrelated factors, each presenting unique challenges that complicate the search for optimal configurations. Recent research has shed light on these challenges and proposed various approaches to address them:\n",
    "\n",
    "1. **Black-box nature**:\n",
    "   The relationship between hyperparameters and model performance is often complex and not easily expressible in closed form. This black-box nature is formalized in the work of Archetti and Candelieri [1], who model the hyperparameter optimization problem as:\n",
    "\n",
    "   $$\\lambda^* = \\argmin_{\\lambda \\in \\Lambda} f(\\lambda)$$\n",
    "\n",
    "   where $f: \\Lambda \\rightarrow \\mathbb{R}$ is an unknown function mapping hyperparameters to performance metrics. The challenge lies in optimizing $f$ without an explicit form, relying only on point evaluations.\n",
    "\n",
    "2. **Computational cost**:\n",
    "   Evaluating the objective function typically requires training and validating a machine learning model, which can be computationally expensive. Li et al. [2] propose a multi-fidelity optimization approach to address this, modeling the performance of a configuration $\\lambda$ at fidelity $r$ as:\n",
    "\n",
    "   $$y_r(\\lambda) = g_r(\\lambda) + \\epsilon_r$$\n",
    "\n",
    "   where $g_r(\\lambda)$ is the true performance at fidelity $r$ and $\\epsilon_r$ is noise. This allows for efficient allocation of resources across different fidelities.\n",
    "\n",
    "3. **Non-convexity**:\n",
    "   The objective function in hyperparameter optimization is generally non-convex, potentially having multiple local optima. Klein et al. [3] address this by modeling the objective function as a Gaussian process:\n",
    "\n",
    "   $$f(\\lambda) \\sim \\mathcal{GP}(m(\\lambda), k(\\lambda, \\lambda'))$$\n",
    "\n",
    "   where $m(\\lambda)$ is the mean function and $k(\\lambda, \\lambda')$ is the covariance function. This probabilistic model allows for better exploration of the non-convex landscape.\n",
    "\n",
    "4. **Mixed variable types**:\n",
    "   Hyperparameters can be continuous, discrete, or categorical. Ru et al. [4] propose a unified approach for handling mixed variable types using a constrained Gaussian process:\n",
    "\n",
    "   $$f(\\lambda_c, \\lambda_d) \\sim \\mathcal{GP}(m(\\lambda_c, \\lambda_d), k((\\lambda_c, \\lambda_d), (\\lambda_c', \\lambda_d')))$$\n",
    "\n",
    "   where $\\lambda_c$ and $\\lambda_d$ represent continuous and discrete hyperparameters, respectively.\n",
    "\n",
    "5. **Conditional hyperparameters**:\n",
    "   Some hyperparameters may only be relevant when others take specific values. Jenatton et al. [5] formalize this as a structured search space:\n",
    "\n",
    "   $$\\Lambda = \\{\\lambda \\in \\mathbb{R}^d : c_i(\\lambda) \\leq 0, i = 1, ..., m\\}$$\n",
    "\n",
    "   where $c_i(\\lambda)$ are constraint functions defining the validity of configurations.\n",
    "\n",
    "Recent work by Wang et al. [6] introduces a novel approach to handling these challenges simultaneously. They propose a Neural Architecture Search (NAS) method that addresses the black-box nature, computational cost, and conditional hyperparameters:\n",
    "\n",
    "$$\\max_{\\alpha \\in \\mathcal{A}} \\mathbb{E}_{a \\sim p_\\alpha}[R(a)] - \\lambda H(p_\\alpha)$$\n",
    "\n",
    "where $\\alpha$ represents architecture parameters, $R(a)$ is the reward for architecture $a$, and $H(p_\\alpha)$ is an entropy regularization term.\n",
    "\n",
    "These formulations provide a mathematical framework for understanding and addressing the key challenges in hyperparameter optimization. By leveraging these insights, our Adaptive Surrogate Ensemble method aims to tackle these challenges effectively, offering a robust approach to hyperparameter tuning across diverse problem domains.\n",
    "ng a structured search space."
   ]
  },
  {
   "cell_type": "markdown",
   "id": "65e5cbc9-f8ae-4af9-8097-b2511bacff63",
   "metadata": {},
   "source": [
    "<style>\n",
    "    body {\n",
    "        font-family: \"Times New Roman\", Times, serif;\n",
    "        font-size: 6px;\n",
    "         margin: 30mm;\n",
    "    }\n",
    "</style>"
   ]
  },
  {
   "cell_type": "markdown",
   "id": "484f3dc1-6aa1-4fdb-ae2a-29c5de9f0e6c",
   "metadata": {},
   "source": [
    "### 1.2 Approaches to Hyperparameter Optimization\n",
    "<style>\n",
    "    body {\n",
    "        font-family: \"Times New Roman\", Times, serif;\n",
    "        font-size: 12px;\n",
    "         margin: 30mm;\n",
    "    }\n",
    "</style>"
   ]
  },
  {
   "cell_type": "markdown",
   "id": "a4ed5d96-adba-48a9-863a-ad9e927599ed",
   "metadata": {},
   "source": [
    "<style>\n",
    "    body {\n",
    "        font-family: \"Times New Roman\", Times, serif;\n",
    "        font-size: 6px;\n",
    "         margin: 30mm;\n",
    "    }\n",
    "</style>"
   ]
  },
  {
   "cell_type": "markdown",
   "id": "6d5b6446-7ca6-4254-8337-bcd6252f446c",
   "metadata": {},
   "source": [
    "<style>\n",
    "    body {\n",
    "        font-family: \"Times New Roman\", Times, serif;\n",
    "        font-size: 11px;\n",
    "         margin: 30mm;\n",
    "    }\n",
    "</style>\n",
    "Over the years, researchers have developed various approaches to tackle the hyperparameter optimization problem. These methods range from simple strategies to sophisticated algorithms that attempt to balance exploration of the hyperparameter space with exploitation of promising regions. In this study, we focus on two approaches:\n",
    "\n",
    "1. **Random Search (RS)**: A simple yet often effective method that samples hyperparameters randomly from a predefined distribution [1]. Despite its simplicity, random search has been shown to be surprisingly competitive, especially in high-dimensional spaces with low effective dimensionality.\n",
    "\n",
    "2. **Adaptive Surrogate Ensemble (ASE)**: A novel approach that we introduce and analyze in this paper. ASE combines multiple surrogate models to guide the search for optimal hyperparameters, adaptively adjusting the influence of each model based on its performance."
   ]
  },
  {
   "cell_type": "markdown",
   "id": "485375b0-eaf5-49d0-9f1f-3899c7a46181",
   "metadata": {},
   "source": [
    "<style>\n",
    "    body {\n",
    "        font-family: \"Times New Roman\", Times, serif;\n",
    "        font-size: 6px;\n",
    "         margin: 30mm;\n",
    "    }\n",
    "</style>"
   ]
  },
  {
   "cell_type": "markdown",
   "id": "e174e154-c862-4053-beb2-115f51954916",
   "metadata": {},
   "source": [
    "### 1.3 Contributions and Paper Structure\n",
    "<style>\n",
    "    body {\n",
    "        font-family: \"Times New Roman\", Times, serif;\n",
    "        font-size: 12px;\n",
    "         margin: 30mm;\n",
    "    }\n",
    "</style>"
   ]
  },
  {
   "cell_type": "markdown",
   "id": "33b1cc2e-de87-43b8-a2b5-89fc90b30bec",
   "metadata": {},
   "source": [
    "<style>\n",
    "    body {\n",
    "        font-family: \"Times New Roman\", Times, serif;\n",
    "        font-size: 6px;\n",
    "         margin: 30mm;\n",
    "    }\n",
    "</style>"
   ]
  },
  {
   "cell_type": "markdown",
   "id": "2fba5039-91a7-467c-83f4-b24f65d3e503",
   "metadata": {},
   "source": [
    "<style>\n",
    "    body {\n",
    "        font-family: \"Times New Roman\", Times, serif;\n",
    "        font-size: 6px;\n",
    "         margin: 30mm;\n",
    "    }\n",
    "</style>"
   ]
  },
  {
   "cell_type": "markdown",
   "id": "b8279325-c9bf-438d-8575-ec44e73dc45f",
   "metadata": {},
   "source": [
    "<style>\n",
    "    body {\n",
    "        font-family: \"Times New Roman\", Times, serif;\n",
    "        font-size: 11px;\n",
    "         margin: 30mm;\n",
    "    }\n",
    "</style>\n",
    "tributions and Paper Structure\r\n",
    "\r\n",
    "The primary contributions of this work are:\r\n",
    "\r\n",
    "1. **Introduction of the ASE method**: We present a detailed description of the Adaptive Surrogate Ensemble method, including its mathematical formulation and algorithmic details. ASE leverages the strengths of multiple surrogate models, allowing it to capture complex relationships in the hyperparameter space while maintaining adaptivity to different problem characteristics.\r\n",
    "\r\n",
    "2. **Comprehensive empirical comparison**: We conduct an extensive empirical study comparing ASE with Random Search on two diverse datasets: the Digits dataset for handwritten digit recognition and the Breast Cancer dataset for medical diagnosis. This comparison provides insights into the performance, stability, and efficiency of both methods across different problem domains.\r\n",
    "\r\n",
    "3. **Theoretical analysis**: We provide a rigorous theoretical analysis of the convergence properties of ASE. This analysis offers insights into the method's behavior and provides guarantees on its performance under certain conditions.\r\n",
    "\r\n",
    "4. **AutoML implications**: We discuss the broader implications of our findings for the field of Automated Machine Learning (AutoML), exploring how ASE and similar approaches can contribute to the development of more efficient and effective AutoML systems.\r\n",
    "\r\n",
    "5. **Future research directions**: Based on our results and analysis, we identify promising avenues for future research in hyperparameter optimization and AutoML.\r\n",
    "\r\n",
    "The remainder of this paper is structured as follows:\r\n",
    "\r\n",
    "- Section 2 provides a comprehensive review of related work in hyperparameter optimization, contextualizing our contribution within the broader research landscape.\r\n",
    "- Section 3 presents the methodology, including detailed descriptions of Random Search and our proposed Adaptive Surrogate Ensemble method.\r\n",
    "- Section 4 describes the experimental setup, detailing the datasets, evaluation metrics, and implementation details.\r\n",
    "- Section 5 presents and discusses the results of our empirical study, providing both quantitative comparisons and qualitative insights.\r\n",
    "- Section 6 concludes the paper, summarizing our findings and outlining directions for future research.\r\n",
    "\r\n",
    "Through this work, we aim to contribute to the ongoing effort to develop more efficient and effective methods for hyperparameter optimization, ultimately advancing the field of AutoML and making machine learning more accessible and powerful across a wide range of applications."
   ]
  },
  {
   "cell_type": "markdown",
   "id": "470b652e-894d-41ef-a8ec-c6b35b0e4d88",
   "metadata": {},
   "source": [
    "<style>\n",
    "    body {\n",
    "        font-family: \"Times New Roman\", Times, serif;\n",
    "        font-size: 12px;\n",
    "         margin: 30mm;\n",
    "    }\n",
    "</style>"
   ]
  },
  {
   "cell_type": "markdown",
   "id": "3dfcf50e-f231-4c43-9998-815bc223ba56",
   "metadata": {},
   "source": [
    "## 2. Related Work\n",
    "<style>\n",
    "    body {\n",
    "        font-family: \"Times New Roman\", Times, serif;\n",
    "        font-size: 13px;\n",
    "         margin: 30mm;\n",
    "    }\n",
    "</style>"
   ]
  },
  {
   "cell_type": "markdown",
   "id": "b424f2c5-8a8c-489d-83f1-21b75eda5047",
   "metadata": {},
   "source": [
    "<style>\n",
    "    body {\n",
    "        font-family: \"Times New Roman\", Times, serif;\n",
    "        font-size: 6px;\n",
    "         margin: 30mm;\n",
    "    }\n",
    "</style>"
   ]
  },
  {
   "cell_type": "markdown",
   "id": "73f13da5-b09a-48cd-9e94-8fddc67d60d2",
   "metadata": {},
   "source": [
    "<style>\n",
    "    body {\n",
    "        font-family: \"Times New Roman\", Times, serif;\n",
    "        font-size: 11px;\n",
    "         margin: 30mm;\n",
    "    }\n",
    "</style>\n",
    "Hyperparameter optimization has been a critical area of research in machine learning, with significant advancements in recent years. This section provides a comprehensive overview of the key approaches and methodologies that have shaped the field, setting the context for our proposed Adaptive Surrogate Ensemble (ASE) method."
   ]
  },
  {
   "cell_type": "markdown",
   "id": "2d4513af-6164-4d98-abc5-b1b243ffc94c",
   "metadata": {},
   "source": [
    "<style>\n",
    "    body {\n",
    "        font-family: \"Times New Roman\", Times, serif;\n",
    "        font-size: 6px;\n",
    "    }\n",
    "</style>"
   ]
  },
  {
   "cell_type": "markdown",
   "id": "31e84eba-51f9-445b-af40-5e1bc3a32a49",
   "metadata": {},
   "source": [
    "### 2.1 Random Search and Grid Search\n",
    "<style>\n",
    "    body {\n",
    "        font-family: \"Times New Roman\", Times, serif;\n",
    "        font-size: 13px;\n",
    "    }\n",
    "</style>"
   ]
  },
  {
   "cell_type": "markdown",
   "id": "8da4b3b7-f190-4df9-99bd-3648c9afd904",
   "metadata": {},
   "source": [
    "<style>\n",
    "    body {\n",
    "        font-family: \"Times New Roman\", Times, serif;\n",
    "        font-size: 6px;\n",
    "    }\n",
    "</style>"
   ]
  },
  {
   "cell_type": "markdown",
   "id": "0e074364-6134-4f40-9710-34449c01f1ad",
   "metadata": {},
   "source": [
    "<style>\n",
    "    body {\n",
    "        font-family: \"Times New Roman\", Times, serif;\n",
    "        font-size: 11px;\n",
    "    }\n",
    "</style>\n",
    "Traditional approaches to hyperparameter optimization began with simple yet effective methods such as grid search and random search. Grid search exhaustively evaluates a predefined set of hyperparameter combinations, while random search samples configurations from a specified distribution.\n",
    "\n",
    "Bergstra and 7engio [1] made a significant contribution by formalizing random search as:\n",
    "\n",
    "$$\\lambda^* \\approx \\argmin_{\\lambda \\in \\{\\lambda^{(1)}, ..., \\lambda^{(n)}\\}} \\mathcal{L}(\\lambda)$$\n",
    "\n",
    "where $\\lambda^{(i)} \\sim p(\\lambda)$ are independent draws from a pre-specified distribution $p(\\lambda)$ over the hyperparameter space, and $\\mathcal{L}(\\lambda)$ is the validation loss for configuration $\\lambda$. This formulation elegantly captures the essence of random search: sampling configurations independently and evaluating their performance. The authors demonstrated that random search can often outperform grid search, especially in high-dimensional spaces with low effective dimensionality, as it explores a wider range of values for each hyperparameter."
   ]
  },
  {
   "cell_type": "markdown",
   "id": "79f18d26-dee2-43ce-9da1-eedc53a44292",
   "metadata": {},
   "source": [
    "<style>\n",
    "    body {\n",
    "        font-family: \"Times New Roman\", Times, serif;\n",
    "        font-size: 6px;\n",
    "    }\n",
    "</style>"
   ]
  },
  {
   "cell_type": "markdown",
   "id": "3d4aeacc-0afe-4ebf-ae26-0ce4878cc683",
   "metadata": {},
   "source": [
    "### 2.2 Bayesian Optimization\n",
    "<style>\n",
    "    body {\n",
    "        font-family: \"Times New Roman\", Times, serif;\n",
    "        font-size: 12px;\n",
    "    }\n",
    "</style>"
   ]
  },
  {
   "cell_type": "markdown",
   "id": "0a52576a-c34c-40b3-bf1c-fc89d14a80b0",
   "metadata": {},
   "source": [
    "<style>\n",
    "    body {\n",
    "        font-family: \"Times New Roman\", Times, serif;\n",
    "        font-size: 6px;\n",
    "    }\n",
    "</style>"
   ]
  },
  {
   "cell_type": "markdown",
   "id": "5a80afb3-4ef4-4542-a9d9-1aaad77dea47",
   "metadata": {},
   "source": [
    "<style>\n",
    "    body {\n",
    "        font-family: \"Times New Roman\", Times, serif;\n",
    "        font-size: 11px;\n",
    "    }\n",
    "</style>\n",
    "Bayesian Optimization (BO) represents a more sophisticated approach, framing hyperparameter optimization as a sequential decision-making problem8 Snoek et al. [2] introduced Gaussian Process-based BO, which can be formulated as:\n",
    "\n",
    "$$\\lambda_{t+1} = \\argmax_{\\lambda \\in \\Lambda} \\alpha_t(\\lambda | \\mathcal{D}_{1:t})$$\n",
    "\n",
    "where $\\alpha_t$ is the acquisition function, $\\mathcal{D}_{1:t} = \\{(\\lambda_i, y_i)\\}_{i=1}^t$ is the set of observed data points, and $y_i = f(\\lambda_i) + \\epsilon_i$ with $f \\sim \\mathcal{GP}(0, k)$ being a Gaussian Process prior over the objective function. This formulation encapsulates the core idea of BO: using past observations to build a surrogate model of the objective function and leveraging this model to guide future evaluations. The acquisition function balances exploration and exploitation, allowing BO to efficiently navigate the hyperparameter space."
   ]
  },
  {
   "cell_type": "markdown",
   "id": "2660e4d7-2a29-4ffd-be8d-77ab06e944dc",
   "metadata": {},
   "source": [
    "<style>\n",
    "    body {\n",
    "        font-family: \"Times New Roman\", Times, serif;\n",
    "        font-size: 6px;\n",
    "    }\n",
    "</style>"
   ]
  },
  {
   "cell_type": "markdown",
   "id": "0a58d2d1-5367-4631-98f5-0ac463afaa8a",
   "metadata": {},
   "source": [
    "### 2.3 Evolutionary Algorithms\n",
    "<style>\n",
    "    body {\n",
    "        font-family: \"Times New Roman\", Times, serif;\n",
    "        font-size: 12px;\n",
    "    }\n",
    "</style>"
   ]
  },
  {
   "cell_type": "markdown",
   "id": "64766a06-a416-4999-8e66-3ac3468e2d02",
   "metadata": {},
   "source": [
    "<style>\n",
    "    body {\n",
    "        font-family: \"Times New Roman\", Times, serif;\n",
    "        font-size: 16px;\n",
    "    }\n",
    "</style>"
   ]
  },
  {
   "cell_type": "markdown",
   "id": "ea96df5a-d0f5-48cf-9e36-a1e0deb5f503",
   "metadata": {},
   "source": [
    "<style>\n",
    "    body {\n",
    "        font-family: \"Times New Roman\", Times, serif;\n",
    "        font-size: 11px;\n",
    "    }\n",
    "</style>\n",
    "Evolutionary algorithms offer a biologically-inspired approach to hyperparameter optimization, maintaining a population of candidate solutions that evolve 9ver time. Real et al. [3] applied this concept to neural architecture search, proposing a fitness function:\n",
    "\n",
    "$$F(A) = \\text{Accuracy}(A) + \\alpha \\cdot \\text{Complexity}(A)$$\n",
    "\n",
    "where $A$ is a neural architecture, and $\\alpha$ balances accuracy and complexity. This fitness function elegantly captures the dual objectives of performance and efficiency, guiding the evolutionary process towards architectures that are both accurate and computationally manageable."
   ]
  },
  {
   "cell_type": "markdown",
   "id": "cb795397-1e2a-4f75-b74e-2cc5fe579f0a",
   "metadata": {},
   "source": [
    "<style>\n",
    "    body {\n",
    "        font-family: \"Times New Roman\", Times, serif;\n",
    "        font-size: 6px;\n",
    "    }\n",
    "</style>"
   ]
  },
  {
   "cell_type": "markdown",
   "id": "f8472f54-5efd-4cc3-952f-b46d917fc8f8",
   "metadata": {},
   "source": [
    "### 2.4 Multi-Fidelity Optimization\n",
    "<style>\n",
    "    body {\n",
    "        font-family: \"Times New Roman\", Times, serif;\n",
    "        font-size: 12px;\n",
    "    }\n",
    "</style>"
   ]
  },
  {
   "cell_type": "markdown",
   "id": "8532727d-c1c7-4960-8247-afb9da419564",
   "metadata": {},
   "source": [
    "<style>\n",
    "    body {\n",
    "        font-family: \"Times New Roman\", Times, serif;\n",
    "        font-size: 6px;\n",
    "    }\n",
    "</style>"
   ]
  },
  {
   "cell_type": "markdown",
   "id": "132f9358-44e6-4c8e-86e5-b85eeece7c04",
   "metadata": {},
   "source": [
    "<style>\n",
    "    body {\n",
    "        font-family: \"Times New Roman\", Times, serif;\n",
    "        font-size: 11px;\n",
    "    }\n",
    "</style>\n",
    "Multi-fidelity optimization methods address the computational challenges of hyperparameter tuning by adaptively allocating resources. Hype10band, introduced by Li et al. [4], uses a bandit-based approach described by the optimization problem:\n",
    "\n",
    "$$\\max_{i \\in \\{1,...,n\\}} \\mathbb{E}[f_i(b_i)]$$\n",
    "\n",
    "subject to $\\sum_{i=1}^n b_i \\leq B$, where $f_i(b_i)$ is the performance of configuration $i$ given budget $b_i$, and $B$ is the total budget. This formulation captures the essence of Hyperband: efficiently allocating a fixed budget across multiple configurations to maximize expected performance.\n",
    "11\n",
    "Building upon this, Falkner et al. [5] proposed BOHB, combining Hyperband with Bayesian optimization. BOHB models the expected improvement as:\n",
    "\n",
    "$$\\text{EI}(\\lambda, b) = \\mathbb{E}[\\max(f(\\lambda, b) - f^*, 0)]$$\n",
    "\n",
    "where $f^*$ is the best observed performance so far. This hybrid approach leverages the strengths of both Bayesian optimization and multi-fidelity methods, potentially leading to faster convergence to optimal hyperparameters."
   ]
  },
  {
   "cell_type": "markdown",
   "id": "610e4bc9-7b8f-4c90-98fa-26c4c2b71e61",
   "metadata": {},
   "source": [
    "<style>\n",
    "    body {\n",
    "        font-family: \"Times New Roman\", Times, serif;\n",
    "        font-size: 6px;\n",
    "    }\n",
    "</style>"
   ]
  },
  {
   "cell_type": "markdown",
   "id": "1af5a77a-6ae5-4882-aa2c-f4e85fb74df8",
   "metadata": {},
   "source": [
    "### 2.5 Learning Curve Extrapolation\n",
    "<style>\n",
    "    body {\n",
    "        font-family: \"Times New Roman\", Times, serif;\n",
    "        font-size: 12px;\n",
    "    }\n",
    "</style>"
   ]
  },
  {
   "cell_type": "markdown",
   "id": "597c2aff-fbf3-4ff7-a2bb-bd3e96925cff",
   "metadata": {},
   "source": [
    "<style>\n",
    "    body {\n",
    "        font-family: \"Times New Roman\", Times, serif;\n",
    "        font-size: 6px;\n",
    "    }\n",
    "</style>"
   ]
  },
  {
   "cell_type": "markdown",
   "id": "6313efa0-4c8c-4499-916e-316828ebd1b1",
   "metadata": {},
   "source": [
    "<style>\n",
    "    body {\n",
    "        font-family: \"Times New Roman\", Times, serif;\n",
    "        font-size: 11px;\n",
    "    }\n",
    "</style>\n",
    "Wang et al. [6] introduced Learning Curve Extrapolation (LCE), formalizing it as:\n",
    "\n",
    "$$\\hat{y}_T = g(\\{y_t\\}_{t=1}^{\\tau}, \\lambda)$$\n",
    "\n",
    "where $\\hat{y}_T$ is the predicted performance at the final epoch $T$, given observations $\\{y_t\\}_{t=1}^{\\tau}$ up to epoch $\\tau < T$ and hyperparameters $\\lambda$. This approach allows for early termination of poorly performing configurations, significantly reducing the computational cost of hyperparameter optimization."
   ]
  },
  {
   "cell_type": "markdown",
   "id": "25b06302-400b-4d36-b069-9a1838c17aef",
   "metadata": {},
   "source": [
    "<style>\n",
    "    body {\n",
    "        font-family: \"Times New Roman\", Times, serif;\n",
    "        font-size: 6px;\n",
    "    }\n",
    "</style>"
   ]
  },
  {
   "cell_type": "markdown",
   "id": "6e20082f-322e-4d2a-8124-1d5f56c56a55",
   "metadata": {},
   "source": [
    "### 2.6 Meta-Learning\n",
    "<style>\n",
    "    body {\n",
    "        font-family: \"Times New Roman\", Times, serif;\n",
    "        font-size: 12px;\n",
    "    }\n",
    "</style>"
   ]
  },
  {
   "cell_type": "markdown",
   "id": "be288c64-f534-4b50-828d-dd641cda38a2",
   "metadata": {},
   "source": [
    "<style>\n",
    "    body {\n",
    "        font-family: \"Times New Roman\", Times, serif;\n",
    "        font-size: 6px;\n",
    "    }\n",
    "</style>"
   ]
  },
  {
   "cell_type": "markdown",
   "id": "92bdc6da-d5d6-4950-be12-1f1c0983705b",
   "metadata": {},
   "source": [
    "<style>\n",
    "    body {\n",
    "        font-family: \"Times New Roman\", Times, serif;\n",
    "        font-size: 11px;\n",
    "    }\n",
    "</style>\n",
    "Meta-learning approaches aim to3transfer knowledge across optimization tasks. SMAC [11], a notable example, can be represented as:\n",
    "\n",
    "$$p(f | \\mathcal{D}, \\mathcal{M}) = \\int p(f | \\theta, \\mathcal{D}) p(\\theta | \\mathcal{M}) d\\theta$$\n",
    "\n",
    "where $f$ is the objective function for a new task, $\\mathcal{D}$ is the observed data, $\\mathcal{M}$ is the meta-data from previous tasks, and $\\theta$ are the parameters of the surrogate model. This formulation captures the essence of meta-learning: leveraging information from past tasks to inform and improve optimization on new tasks."
   ]
  },
  {
   "cell_type": "markdown",
   "id": "6b59d0ff-6104-4f43-be29-a1102d9d93fa",
   "metadata": {},
   "source": [
    "<style>\n",
    "    body {\n",
    "        font-family: \"Times New Roman\", Times, serif;\n",
    "        font-size: 6px;\n",
    "    }\n",
    "</style>"
   ]
  },
  {
   "cell_type": "markdown",
   "id": "337ddb87-760f-4e28-8ead-6de8a70066f5",
   "metadata": {},
   "source": [
    "### 2.7 Our Contribution\n",
    "<style>\n",
    "    body {\n",
    "        font-family: \"Times New Roman\", Times, serif;\n",
    "        font-size: 12px;\n",
    "    }\n",
    "</style>"
   ]
  },
  {
   "cell_type": "markdown",
   "id": "59f6c92c-5189-44ee-bcda-46a0ceb3dd1d",
   "metadata": {},
   "source": [
    "<style>\n",
    "    body {\n",
    "        font-family: \"Times New Roman\", Times, serif;\n",
    "        font-size: 6px;\n",
    "    }\n",
    "</style>"
   ]
  },
  {
   "cell_type": "markdown",
   "id": "9b1d8918-29d5-4ccd-a775-107002be7b1a",
   "metadata": {},
   "source": [
    "<style>\n",
    "    body {\n",
    "        font-family: \"Times New Roman\", Times, serif;\n",
    "        font-size: 11px;\n",
    "    }\n",
    "</style>\n",
    "Our Adaptive Surrogate Ensemble (ASE) method builds upon these foundations, combining multiple surrogate models:\n",
    "\n",
    "$$\\hat{f}(\\lambda) = \\sum_{k=1}^K w_k f_k(\\lambda)$$\n",
    "\n",
    "where $f_k$ are individual surrogate models and $w_k$ are adaptive weights updated based on model performance:\n",
    "\n",
    "$$w_k^{(t+1)} = \\frac{\\exp(-\\beta L_k^{(t)})}{\\sum_{j=1}^K \\exp(-\\beta L_j^{(t)})}$$\n",
    "\n",
    "This approach aims to leverage the strengths of diverse modeling techniques while addressing limitations of individual methods. By dynamically adjusting the importance of each model, ASE adapts to the specific characteristics of the optimization landscape, potentially offering improved performance and robustness across a wide range of hyperparameter optimization tasks."
   ]
  },
  {
   "cell_type": "markdown",
   "id": "28914e7a-6635-4a5e-bc49-2ce60d3b0417",
   "metadata": {},
   "source": [
    "<style>\n",
    "    body {\n",
    "        font-family: \"Times New Roman\", Times, serif;\n",
    "        font-size: 12px;\n",
    "    }\n",
    "</style>"
   ]
  },
  {
   "cell_type": "markdown",
   "id": "db4a1c22-164e-45d0-9579-548adf32e48a",
   "metadata": {},
   "source": [
    "## 3. Methodology\n",
    "<style>\n",
    "    body {\n",
    "        font-family: \"Times New Roman\", Times, serif;\n",
    "        font-size: 13px;\n",
    "    }\n",
    "</style>"
   ]
  },
  {
   "cell_type": "markdown",
   "id": "f2bc4dd1-9f53-4c54-bc91-d0d2eae12d82",
   "metadata": {},
   "source": [
    "<style>\n",
    "    body {\n",
    "        font-family: \"Times New Roman\", Times, serif;\n",
    "        font-size: 6px;\n",
    "    }\n",
    "</style>"
   ]
  },
  {
   "cell_type": "markdown",
   "id": "2e0ebb32-66a3-4438-8091-f9ecbaa2241f",
   "metadata": {},
   "source": [
    "### 3.1 Problem Formulation\n",
    "<style>\n",
    "    body {\n",
    "        font-family: \"Times New Roman\", Times, serif;\n",
    "        font-size: 12px;\n",
    "    }\n",
    "</style> robustness across a wide range of hyperparameter optimization tasks."
   ]
  },
  {
   "cell_type": "markdown",
   "id": "8c1e7d75-b8f3-4438-8243-e1989f04a14d",
   "metadata": {},
   "source": [
    "<style>\n",
    "    body {\n",
    "        font-family: \"Times New Roman\", Times, serif;\n",
    "        font-size: 6px;\n",
    "    }\n",
    "</style>"
   ]
  },
  {
   "cell_type": "markdown",
   "id": "1f97a6ab-764c-4105-a6cb-a0aed7ef7861",
   "metadata": {},
   "source": [
    "<style>\n",
    "    body {\n",
    "        font-family: \"Times New Roman\", Times, serif;\n",
    "        font-size: 11px;\n",
    "    }\n",
    "</style>\n",
    "Let $D = ((x^{(1)}, y^{(1)}), ..., (x^{(n)}, y^{(n)}))$ be a labeled dataset, where $x^{(i)} \\in X$ is a feature vector and $y^{(i)} \\in Y$ is its corresponding label. We consider a machine learning inducer $I_\\lambda: D \\times \\Lambda \\rightarrow H$ that maps a dataset $D$ and hyperparameter configuration $\\lambda \\in \\Lambda$ to a hypothesis $h \\in H$.\n",
    "\n",
    "The goal of hyperparameter optimization is to find:\n",
    "\n",
    "$$\\lambda^* = \\argmin_{\\lambda \\in \\tilde{\\Lambda}} \\mathbb{E}_{D_{\\text{train}}, D_{\\text{test}} \\sim P_{xy}}[\\rho(y_{\\text{test}}, F_{D_{\\text{test}}, I(D_{\\text{train}}, \\lambda)})]$$\n",
    "\n",
    "where $\\rho$ is a performance measure, $F_{D_{\\text{test}}, I(D_{\\text{train}}, \\lambda)}$ is the matrix of predictions when the model is trained on $D_{\\text{train}}$ and predicts on $D_{\\text{test}}$, and $\\tilde{\\Lambda} \\subset \\Lambda$ is the search space.\n"
   ]
  },
  {
   "cell_type": "markdown",
   "id": "26e215b5-10ca-4f1e-9654-cd6835fde00c",
   "metadata": {},
   "source": [
    "<style>\n",
    "    body {\n",
    "        font-family: \"Times New Roman\", Times, serif;\n",
    "        font-size: 6px;\n",
    "    }\n",
    "</style>"
   ]
  },
  {
   "cell_type": "markdown",
   "id": "da8dba08-d43c-400e-b8d6-e163ae4e2d28",
   "metadata": {},
   "source": [
    "### 3.2 Random Search\n",
    "<style>\n",
    "    body {\n",
    "        font-family: \"Times New Roman\", Times, serif;\n",
    "        font-size: 12px;\n",
    "    }\n",
    "</style>"
   ]
  },
  {
   "cell_type": "markdown",
   "id": "f1108b46-2f1e-4095-99fe-0b483acd93b1",
   "metadata": {},
   "source": [
    "<style>\n",
    "    body {\n",
    "        font-family: \"Times New Roman\", Times, serif;\n",
    "        font-size: 6px;\n",
    "    }\n",
    "</style>"
   ]
  },
  {
   "cell_type": "markdown",
   "id": "0f18890f-0e67-4290-9fe4-e8f4ec3d17c5",
   "metadata": {},
   "source": [
    "<style>\n",
    "    body {\n",
    "        font-family: \"Times New Roman\", Times, serif;\n",
    "        font-size: 11px;\n",
    "    }\n",
    "</style>\n",
    "Random Search [1] is defined by the following algorithm:\n",
    "\n",
    "```\n",
    "Algorithm 1: Random Search\n",
    "Input: Search space Λ̃, budget B, objective function c(λ)\n",
    "Output: Best hyperparameter configuration λ*\n",
    "\n",
    "1: Initialize λ* = None, c* = ∞\n",
    "2: for i = 1 to B do\n",
    "3:     Sample λ_i uniformly from Λ̃\n",
    "4:     Evaluate c_i = c(λ_i)\n",
    "5:     if c_i < c* then\n",
    "6:         λ* = λ_i\n",
    "7:         c* = c_i\n",
    "8:     end if\n",
    "9: end for\n",
    "10: return λ*\n",
    "```"
   ]
  },
  {
   "cell_type": "markdown",
   "id": "04590c92-7ca8-4867-8050-576f3b1afc65",
   "metadata": {},
   "source": [
    "<style>\n",
    "    body {\n",
    "        font-family: \"Times New Roman\", Times, serif;\n",
    "        font-size: 6px;\n",
    "    }\n",
    "</style>"
   ]
  },
  {
   "cell_type": "markdown",
   "id": "4843b273-d660-4fe7-93d9-b495d3a8e8f1",
   "metadata": {},
   "source": [
    "### 3.3 Adaptive Surrogate Ensemble (ASE)\n",
    "<style>\n",
    "    body {\n",
    "        font-family: \"Times New Roman\", Times, serif;\n",
    "        font-size: 12px;\n",
    "    }\n",
    "</style>"
   ]
  },
  {
   "cell_type": "markdown",
   "id": "ebb3fe7f-bd88-4534-9ffd-d60d8542fee4",
   "metadata": {},
   "source": [
    "<style>\n",
    "    body {\n",
    "        font-family: \"Times New Roman\", Times, serif;\n",
    "        font-size: 6px;\n",
    "    }\n",
    "</style>"
   ]
  },
  {
   "cell_type": "markdown",
   "id": "43527d33-b750-4e29-9767-91742633e4d5",
   "metadata": {},
   "source": [
    "<style>\n",
    "    body {\n",
    "        font-family: \"Times New Roman\", Times, serif;\n",
    "        font-size: 11px;\n",
    "    }\n",
    "</style>\n",
    "We propose the Adaptive Surrogate Ensemble method, which combines multiple surrogate models to estimate the performance of hyperparameter configurations. The key idea is to leverage the strengths of different models and adapt their weights based on their predictive performance.\n",
    "\n",
    "Let $M = \\{M_1, ..., M_K\\}$ be a set of $K$ surrogate models. Each model $M_k$ provides a prediction $\\hat{y}_k(x)$ for a given hyperparameter configuration $x$. The ensemble prediction is given by:\n",
    "\n",
    "$$\\hat{y}(x) = \\sum_{k=1}^K w_k \\hat{y}_k(x)$$\n",
    "\n",
    "where $w_k$ are the model weights, satisfying $\\sum_{k=1}^K w_k = 1$ and $w_k \\geq 0$ for all $k$.\n",
    "\n",
    "The weights are updated adaptively based on the models' performance:\n",
    "\n",
    "$$w_k^{(t+1)} = \\frac{\\exp(-\\beta L_k^{(t)})}{\\sum_{j=1}^K \\exp(-\\beta L_j^{(t)})}$$\n",
    "\n",
    "where $L_k^{(t)}$ is the loss of model $k$ at iteration $t$, and $\\beta$ is a temperature parameter controlling the adaptivity of the weights.\n",
    "\n",
    "The ASE algorithm is defined as follows:\n",
    "\n",
    "```\n",
    "Algorithm 2: Adaptive Surrogate Ensemble (ASE)\n",
    "Input: Search space Λ̃, budget B, objective function c(λ), surrogate models M = {M_1, ..., M_K}\n",
    "Output: Best hyperparameter configuration λ*\n",
    "\n",
    "1: Initialize λ* = None, c* = ∞, w_k = 1/K for k = 1 to K\n",
    "2: Initialize archive A = {}\n",
    "3: for i = 1 to B do\n",
    "4:     Train surrogate models M_k on archive A\n",
    "5:     Generate candidate pool C by sampling from Λ̃\n",
    "6:     For each λ in C, compute ensemble prediction ŷ(λ) = Σ_k w_k ŷ_k(λ)\n",
    "7:     Select λ_i = argmin_λ∈C ŷ(λ)\n",
    "8:     Evaluate c_i = c(λ_i)\n",
    "9:     Update archive A = A ∪ {(λ_i, c_i)}\n",
    "10:    if c_i < c* then\n",
    "11:        λ* = λ_i\n",
    "12:        c* = c_i\n",
    "13:    end if\n",
    "14:    Update model weights w_k according to Equation (4)\n",
    "15: end for\n",
    "16: return λ*\n",
    "```"
   ]
  },
  {
   "cell_type": "markdown",
   "id": "0d1fe235-856e-409b-882e-6e72d0f3991a",
   "metadata": {},
   "source": [
    "<style>\n",
    "    body {\n",
    "        font-family: \"Times New Roman\", Times, serif;\n",
    "        font-size: 6px;\n",
    "    }\n",
    "</style>"
   ]
  },
  {
   "cell_type": "markdown",
   "id": "6aae39b5-262b-49dd-ba41-442bcc9837a7",
   "metadata": {},
   "source": [
    "### 3.4 Theoretical Analysis\n",
    "<style>\n",
    "    body {\n",
    "        font-family: \"Times New Roman\", Times, serif;\n",
    "        font-size: 12px;\n",
    "    }\n",
    "</style>"
   ]
  },
  {
   "cell_type": "markdown",
   "id": "25d1a567-0dba-402f-816c-f6a04c0a6aa3",
   "metadata": {},
   "source": [
    "<style>\n",
    "    body {\n",
    "        font-family: \"Times New Roman\", Times, serif;\n",
    "        font-size: 6px;\n",
    "    }\n",
    "</style>"
   ]
  },
  {
   "cell_type": "markdown",
   "id": "fa60b40e-acbe-4051-89ac-7b2221c51636",
   "metadata": {},
   "source": [
    "<style>\n",
    "    body {\n",
    "        font-family: \"Times New Roman\", Times, serif;\n",
    "        font-size: 11px;\n",
    "    }\n",
    "</style>\n",
    "We provide a theoretical analysis of the convergence properties of ASE. Let $f(\\lambda)$ be the true objective function and $\\hat{f}_t(\\lambda)$ be the ensemble surrogate at iteration $t$. We make the following assumptions:\n",
    "\n",
    "1. The search space $\\tilde{\\Lambda}$ is compact.\n",
    "2. The true objective function $f(\\lambda)$ is Lipschitz continuous with constant $L$.\n",
    "3. The surrogate models are unbiased estimators of $f(\\lambda)$.\n",
    "\n",
    "Under these assumptions, we can prove the following theorem:\n",
    "\n",
    "**Theorem 1:** Let $\\lambda_t^*$ be the best solution found by ASE up to iteration $t$, and $\\lambda^*$ be the global optimum. Then, with probability at least $1 - \\delta$:\n",
    "\n",
    "$$f(\\lambda_t^*) - f(\\lambda^*) \\leq O\\left(\\sqrt{\\frac{\\log(1/\\delta)}{t}}\\right)$$"
   ]
  },
  {
   "cell_type": "markdown",
   "id": "1828e1e2-1ada-492c-ae8b-bc7fb9591d19",
   "metadata": {},
   "source": [
    "<style>\n",
    "    body {\n",
    "        font-family: \"Times New Roman\", Times, serif;\n",
    "        font-size: 6px;\n",
    "    }\n",
    "</style>"
   ]
  },
  {
   "cell_type": "markdown",
   "id": "586f7a0d-cdf1-4730-8681-afebadaa0607",
   "metadata": {},
   "source": [
    "### 3.5 Proof Outline\n",
    "<style>\n",
    "    body {\n",
    "        font-family: \"Times New Roman\", Times, serif;\n",
    "        font-size: 12px;\n",
    "    }\n",
    "</style>\n",
    "1. **Martingale Concentration Inequality**: We apply a martingale concentration inequality, specifically tailored for the ASE process. Martingale inequalities like Azuma's inequality provide bounds on the deviation of the ensemble surrogate performance from the true objective function $f(\\cdot)$.\n",
    "\n",
    "2. **Properties of Adaptive Surrogate Ensemble (ASE)**: The ASE method employs a collection of surrogate models that adaptively update their weights based on their performance relative to the true objective function $f(\\cdot)$. It is assumed that these surrogates are unbiased estimators of $f(\\cdot)$, which ensures that as $t$ increases, the ensemble's approximation of $f(\\cdot)$ improves.\n",
    "\n",
    "3. **Iterative Improvement**: Due to the iterative nature of ASE, each iteration refines the surrogate models and adjusts their weights based on their predictive accuracy and the exploration-exploitation trade-off. This iterative improvement mechanism gradually reduces the discrepancy between the surrogate ensemble and $f(\\cdot)$.\n",
    "\n",
    "4. **Compactness of Search Space**: The compactness assumption of the search space $\\mathcal{X}$ ensures that the diameter $D$ is finite. This finite diameter facilitates the convergence analysis by limiting the possible spread of function values across $\\mathcal{X}$.\n",
    "\n",
    "By leveraging these elements, we establish that $\\lambda_t^*$, the solution found by ASE at iteration $t$, approaches $\\lambda^*$, the global optimum of $f(\\cdot)$, in terms of the objective function value $f(\\lambda_t^*)$."
   ]
  },
  {
   "cell_type": "markdown",
   "id": "ae38d7ef-637e-4f4c-bb60-0f3921f91ac9",
   "metadata": {},
   "source": [
    "<style>\n",
    "    body {\n",
    "        font-family: \"Times New Roman\", Times, serif;\n",
    "        font-size: 12px;\n",
    "    }\n",
    "</style>"
   ]
  },
  {
   "cell_type": "markdown",
   "id": "96b12347-8562-434a-a4f2-2bcceb524857",
   "metadata": {},
   "source": [
    "## 4. Experimental Setup\n",
    "<style>\n",
    "    body {\n",
    "        font-family: \"Times New Roman\", Times, serif;\n",
    "        font-size: 13px;\n",
    "    }\n",
    "</style>"
   ]
  },
  {
   "cell_type": "markdown",
   "id": "6ae7a00b-1cb8-497d-85f3-84ef1cf531a6",
   "metadata": {},
   "source": [
    "<style>\n",
    "    body {\n",
    "        font-family: \"Times New Roman\", Times, serif;\n",
    "        font-size: 6px;\n",
    "    }\n",
    "</style>"
   ]
  },
  {
   "cell_type": "markdown",
   "id": "d81f7cb1-8b28-4c43-9a9c-3ee644bf1c45",
   "metadata": {},
   "source": [
    "<style>\n",
    "    body {\n",
    "        font-family: \"Times New Roman\", Times, serif;\n",
    "        font-size: 11px;\n",
    "    }\n",
    "</style>\n",
    "To rigorously evaluate the performance of our proposed Adaptive Surrogate Ensemble (ASE) method against Random Search (RS), we conducted a series of experiments on two diverse datasets. This section provides a detailed account of our experimental methodology, including dataset characteristics, hyperparameter optimization process, evaluation metrics, and implementation details."
   ]
  },
  {
   "cell_type": "markdown",
   "id": "4df404d1-8069-4c71-93d9-2197531e0137",
   "metadata": {},
   "source": [
    "<style>\n",
    "    body {\n",
    "        font-family: \"Times New Roman\", Times, serif;\n",
    "        font-size: 6px;\n",
    "    }\n",
    "</style>"
   ]
  },
  {
   "cell_type": "markdown",
   "id": "635a7238-329f-4587-809b-46534f23070e",
   "metadata": {},
   "source": [
    "### 4.1 Datasets\n",
    "<style>\n",
    "    body {\n",
    "        font-family: \"Times New Roman\", Times, serif;\n",
    "        font-size: 12px;\n",
    "    }\n",
    "</style>"
   ]
  },
  {
   "cell_type": "markdown",
   "id": "aeea9562-8fbc-4a9a-b73d-6e9a7078de9e",
   "metadata": {},
   "source": [
    "<style>\n",
    "    body {\n",
    "        font-family: \"Times New Roman\", Times, serif;\n",
    "        font-size: 6px;\n",
    "    }\n",
    "</style>"
   ]
  },
  {
   "cell_type": "markdown",
   "id": "896443c9-82ef-48e2-8b8f-035dfc90e8a6",
   "metadata": {},
   "source": [
    "<style>\n",
    "    body {\n",
    "        font-family: \"Times New Roman\", Times, serif;\n",
    "        font-size: 11px;\n",
    "    }\n",
    "</style>\n",
    "We selected two well-known datasets from different domains to assess the generalizability of our method:\n",
    "\n",
    "1. **Digits Dataset**: A collection of 8x8 grayscale images of handwritten digits, comprising 1797 samples with 64 features each. The classification task involves identifying digits (0-9), presenting a multi-class problem in a relatively high-dimensional space.\n",
    "\n",
    "2. **Breast Cancer Dataset**: Contains diagnostic data for breast cancer prediction, with 569 samples and 30 features each. This dataset represents a real-world binary classification problem with moderate dimensionality.\n",
    "\n",
    "These datasets were chosen to test our method's performance across varying problem complexities and dimensionalities."
   ]
  },
  {
   "cell_type": "markdown",
   "id": "22c3ded3-eed1-4f8d-8042-34a05a976e9f",
   "metadata": {},
   "source": [
    "<style>\n",
    "    body {\n",
    "        font-family: \"Times New Roman\", Times, serif;\n",
    "        font-size: 6px;\n",
    "    }\n",
    "</style>"
   ]
  },
  {
   "cell_type": "markdown",
   "id": "035f706b-912e-491a-8c20-8fc5a8fa8a91",
   "metadata": {},
   "source": [
    "### 4.2 Hyperparameter Optimization Task\n",
    "<style>\n",
    "    body {\n",
    "        font-family: \"Times New Roman\", Times, serif;\n",
    "        font-size: 12px;\n",
    "    }\n",
    "</style>"
   ]
  },
  {
   "cell_type": "markdown",
   "id": "ac5c3f05-d11d-4c9c-a364-1a9bbddc875e",
   "metadata": {},
   "source": [
    "<style>\n",
    "    body {\n",
    "        font-family: \"Times New Roman\", Times, serif;\n",
    "        font-size: 6px;\n",
    "    }\n",
    "</style>"
   ]
  },
  {
   "cell_type": "markdown",
   "id": "95b0a6e0-2c7b-48ed-bc7a-65a7b67232af",
   "metadata": {},
   "source": [
    "<style>\n",
    "    body {\n",
    "        font-family: \"Times New Roman\", Times, serif;\n",
    "        font-size: 11px;\n",
    "    }\n",
    "</style>\n",
    "We focus on optimizing the hyperparameters of a Support Vector Machine (SVM) classifier. The SVM decision function is given by:\n",
    "\n",
    "$$f(x) = \\text{sign}\\left(\\sum_{i=1}^n y_i \\alpha_i K(x_i, x) + b\\right)$$\n",
    "\n",
    "where $K(x_i, x)$ is the kernel function, $\\alpha_i$ are the Lagrange multipliers, and $b$ is the bias term.\n",
    "\n",
    "The hyperparameter space we explore includes:\n",
    "\n",
    "- $C \\in [10^{-3}, 10^3]$: The regularization parameter, sampled log-uniformly.\n",
    "- $\\gamma \\in [10^{-4}, 10^1]$: The kernel coefficient, sampled log-uniformly.\n",
    "- $\\text{kernel} \\in \\{\\text{'rbf'}, \\text{'poly'}, \\text{'sigmoid'}\\}$: The kernel type.\n",
    "\n",
    "This mixed continuous and categorical space presents a challenging optimization problem due to the complex interactions between parameters."
   ]
  },
  {
   "cell_type": "markdown",
   "id": "df018308-0d30-4caf-a9f8-6cbe0b5f19af",
   "metadata": {},
   "source": [
    "<style>\n",
    "    body {\n",
    "        font-family: \"Times New Roman\", Times, serif;\n",
    "        font-size: 6px;\n",
    "    }\n",
    "</style>"
   ]
  },
  {
   "cell_type": "markdown",
   "id": "be7015db-cb19-4546-9884-3fdc312b6aa0",
   "metadata": {},
   "source": [
    "### 4.3 Evaluation Process\n",
    "<style>\n",
    "    body {\n",
    "        font-family: \"Times New Roman\", Times, serif;\n",
    "        font-size: 12px;\n",
    "    }\n",
    "</style>"
   ]
  },
  {
   "cell_type": "markdown",
   "id": "077e65fa-dc36-422d-b5cd-4c806bb95dfc",
   "metadata": {},
   "source": [
    "<style>\n",
    "    body {\n",
    "        font-family: \"Times New Roman\", Times, serif;\n",
    "        font-size: 6px;\n",
    "    }\n",
    "</style>"
   ]
  },
  {
   "cell_type": "markdown",
   "id": "b2add642-ad51-460e-a6e9-41b62ed00831",
   "metadata": {},
   "source": [
    "<style>\n",
    "    body {\n",
    "        font-family: \"Times New Roman\", Times, serif;\n",
    "        font-size: 11px;\n",
    "    }\n",
    "</style>\n",
    "We employ 5-fold cross-validation for each hyperparameter configuration. The objective function to be minimized is the negative accuracy:\n",
    "\n",
    "$$f(\\lambda) = -\\frac{1}{5}\\sum_{i=1}^5 \\text{accuracy}_i(\\lambda)$$\n",
    "\n",
    "where $\\text{accuracy}_i(\\lambda)$ is the accuracy on the i-th fold for hyperparameter configuration $\\lambda$.\n",
    "\n",
    "For the Digits dataset, we run 100 iterations, while for the Breast Cancer dataset, we use 80 iterations. This difference accounts for the varying complexity and size of the datasets."
   ]
  },
  {
   "cell_type": "markdown",
   "id": "9d0a2478-c982-48c4-9a83-205c691b6c9f",
   "metadata": {},
   "source": [
    "<style>\n",
    "    body {\n",
    "        font-family: \"Times New Roman\", Times, serif;\n",
    "        font-size: 6px;\n",
    "    }\n",
    "</style>"
   ]
  },
  {
   "cell_type": "markdown",
   "id": "9dc4e3b2-9880-40a6-9f8a-c6bb40796ca7",
   "metadata": {},
   "source": [
    "### 4.4 Adaptive Surrogate Ensemble Configuration\n",
    "<style>\n",
    "    body {\n",
    "        font-family: \"Times New Roman\", Times, serif;\n",
    "        font-size: 12px;\n",
    "    }\n",
    "</style>"
   ]
  },
  {
   "cell_type": "markdown",
   "id": "249987e3-303b-4abe-ab30-03dab51c23c8",
   "metadata": {},
   "source": [
    "<style>\n",
    "    body {\n",
    "        font-family: \"Times New Roman\", Times, serif;\n",
    "        font-size: 6px;\n",
    "    }\n",
    "</style>"
   ]
  },
  {
   "cell_type": "markdown",
   "id": "ab960587-4724-4e04-9576-c9317f96017b",
   "metadata": {},
   "source": [
    "<style>\n",
    "    body {\n",
    "        font-family: \"Times New Roman\", Times, serif;\n",
    "        font-size: 11px;\n",
    "    }\n",
    "</style>aptive Surrogate Ensemble Configuration\r\n",
    "\r\n",
    "Our ASE method uses an ensemble of three surrogate models:\r\n",
    "\r\n",
    "1. **Gaussian Process with Matérn 5/2 kernel**: The kernel function is defined as:\r\n",
    "\r\n",
    "   $$k(x_i, x_j) = \\sigma^2\\left(1 + \\frac{\\sqrt{5}r}{\\ell} + \\frac{5r^2}{3\\ell^2}\\right)\\exp\\left(-\\frac{\\sqrt{5}r}{\\ell}\\right)$$\r\n",
    "\r\n",
    "   where $r = ||x_i - x_j||$ is the Euclidean distance between two points, $\\ell$ is the length scale, and $\\sigma^2$ is the signal variance.\r\n",
    "\r\n",
    "2. **Random Forest**: An ensemble of decision trees, where the final prediction is the average of individual tree predictions:\r\n",
    "\r\n",
    "   $$\\hat{y} = \\frac{1}{T}\\sum_{t=1}^T f_t(x)$$\r\n",
    "\r\n",
    "   where $f_t(x)$ is the prediction of the t-th tree.\r\n",
    "\r\n",
    "3. **Gradient Boosting Machine**: Builds an additive model in a forward stage-wise fashion:\r\n",
    "\r\n",
    "   $$F_m(x) = F_{m-1}(x) + \\gamma_m h_m(x)$$\r\n",
    "\r\n",
    "   where $h_m(x)$ is the weak learner and $\\gamma_m$ is the step length.\r\n",
    "\r\n",
    "The ensemble prediction is given by:\r\n",
    "\r\n",
    "$$\\hat{f}(\\lambda) = \\sum_{k=1}^3 w_k f_k(\\lambda)$$\r\n",
    "\r\n",
    "where $w_k$ are dynamicely-used Random Search baseline across diverse hyperparameter optimization scenarios."
   ]
  },
  {
   "cell_type": "markdown",
   "id": "5b7827d8-5701-4661-a74d-05b2d71faa82",
   "metadata": {},
   "source": [
    "<style>\n",
    "    body {\n",
    "        font-family: \"Times New Roman\", Times, serif;\n",
    "        font-size: 6px;\n",
    "    }\n",
    "</style>"
   ]
  },
  {
   "cell_type": "markdown",
   "id": "d6ac625e-10bd-4d33-97ef-6b86a6272ea2",
   "metadata": {},
   "source": [
    "### 4.5 Implementation and Computational Environment\n",
    "<style>\n",
    "    body {\n",
    "        font-family: \"Times New Roman\", Times, serif;\n",
    "        font-size: 12px;\n",
    "    }\n",
    "</style>"
   ]
  },
  {
   "cell_type": "markdown",
   "id": "27468f4c-ada3-4383-a810-bb89b7c7a287",
   "metadata": {},
   "source": [
    "<style>\n",
    "    body {\n",
    "        font-family: \"Times New Roman\", Times, serif;\n",
    "        font-size: 6px;\n",
    "    }\n",
    "</style>"
   ]
  },
  {
   "cell_type": "markdown",
   "id": "85d5633b-77b3-42ee-b49f-3fe314249af0",
   "metadata": {},
   "source": [
    "<style>\n",
    "    body {\n",
    "        font-family: \"Times New Roman\", Times, serif;\n",
    "        font-size: 11px;\n",
    "    }\n",
    "</style>\n",
    "We implemented our experiments using Python 3.8 with scikit-learn 0.24.2, GPy 1.10.0, and XGBoost 1.4.2. All experiments were conducted on a workstation with an Intel Xeon E5-2680 v4 CPU @ 2.40GHz and 128GB of RAM, running Ubuntu 20.04 LTS."
   ]
  },
  {
   "cell_type": "markdown",
   "id": "28b2d884-d42a-43d6-833e-f3b69a18a621",
   "metadata": {},
   "source": [
    "<style>\n",
    "    body {\n",
    "        font-family: \"Times New Roman\", Times, serif;\n",
    "        font-size: 6px;\n",
    "    }\n",
    "</style>"
   ]
  },
  {
   "cell_type": "markdown",
   "id": "e976ca90-8102-4e0d-b835-0ae081f839fc",
   "metadata": {},
   "source": [
    "### 4.6 Performance Metrics\n",
    "<style>\n",
    "    body {\n",
    "        font-family: \"Times New Roman\", Times, serif;\n",
    "        font-size: 12px;\n",
    "    }\n",
    "</style>"
   ]
  },
  {
   "cell_type": "markdown",
   "id": "06be73c3-8876-49ca-ab50-6e3f4894cc2f",
   "metadata": {},
   "source": [
    "<style>\n",
    "    body {\n",
    "        font-family: \"Times New Roman\", Times, serif;\n",
    "        font-size: 6px;\n",
    "    }\n",
    "</style>"
   ]
  },
  {
   "cell_type": "markdown",
   "id": "cb0d8f5c-88a6-4c8b-9337-0d133782f2f8",
   "metadata": {},
   "source": [
    "<style>\n",
    "    body {\n",
    "        font-family: \"Times New Roman\", Times, serif;\n",
    "        font-size: 11px;\n",
    "    }\n",
    "</style>\n",
    "We evaluate ASE and RS using the following metrics:\n",
    "\n",
    "1. **Best found accuracy**: $\\max_{t \\in \\{1,\\ldots,T\\}} \\text{accuracy}(\\lambda_t)$\n",
    "2. **Convergence speed**: $\\min\\{t : \\text{accuracy}(\\lambda_t) \\geq 0.95 \\cdot \\max_{t'} \\text{accuracy}(\\lambda_{t'})\\}$\n",
    "3. **Stability**: $\\sqrt{\\frac{1}{N-1}\\sum_{i=1}^N (\\text{accuracy}_i - \\overline{\\text{accuracy}})^2}$\n",
    "4. **Computational efficiency**: Total wall-clock time for T iterations."
   ]
  },
  {
   "cell_type": "markdown",
   "id": "de97a482-ce63-4a3d-869b-df341dbf88cc",
   "metadata": {},
   "source": [
    "<style>\n",
    "    body {\n",
    "        font-family: \"Times New Roman\", Times, serif;\n",
    "        font-size: 6px;\n",
    "    }\n",
    "</style>"
   ]
  },
  {
   "cell_type": "markdown",
   "id": "c0f86ac7-cbc2-4402-8673-ab7c9eb76032",
   "metadata": {},
   "source": [
    "### 4.7 Statistical Analysis\n",
    "<style>\n",
    "    body {\n",
    "        font-family: \"Times New Roman\", Times, serif;\n",
    "        font-size: 12px;\n",
    "    }\n",
    "</style>"
   ]
  },
  {
   "cell_type": "markdown",
   "id": "47d510da-ed83-414d-aebc-ed85014ff013",
   "metadata": {},
   "source": [
    "<style>\n",
    "    body {\n",
    "        font-family: \"Times New Roman\", Times, serif;\n",
    "        font-size: 6px;\n",
    "    }\n",
    "</style>"
   ]
  },
  {
   "cell_type": "markdown",
   "id": "ac2adad3-2638-4c4e-adcb-3ad49f481965",
   "metadata": {},
   "source": [
    "<style>\n",
    "    body {\n",
    "        font-family: \"Times New Roman\", Times, serif;\n",
    "        font-size: 11px;\n",
    "    }\n",
    "</style>\n",
    "We perform 10 independent runs of each method on each dataset. Statistical significance is assessed using paired t-tests, with the null hypothesis $H_0: \\mu_{\\text{ASE}} = \\mu_{\\text{RS}}$ and the alternative hypothesis $H_1: \\mu_{\\text{ASE}} > \\mu_{\\text{RS}}$, where $\\mu$ represents the mean performance metric.\n",
    "\n",
    "This comprehensive experimental setup allows us to rigorously assess the performance, efficiency, and robustness of our proposed ASE method in comparison to the widely-used Random Search baseline across diverse hyperparameter optimization scenarios."
   ]
  },
  {
   "cell_type": "markdown",
   "id": "2e36b2f6-c6f8-41d3-a7d5-8e64f4bf3a7d",
   "metadata": {},
   "source": [
    "<style>\n",
    "    body {\n",
    "        font-family: \"Times New Roman\", Times, serif;\n",
    "        font-size: 12px;\n",
    "    }\n",
    "</style>"
   ]
  },
  {
   "cell_type": "markdown",
   "id": "3c09bd75-e0b5-4034-8319-a619d36509b0",
   "metadata": {},
   "source": [
    "## 5. Results and Discussion\n",
    "<style>\n",
    "    body {\n",
    "        font-family: \"Times New Roman\", Times, serif;\n",
    "        font-size: 13px;\n",
    "    }\n",
    "</style>"
   ]
  },
  {
   "cell_type": "markdown",
   "id": "3ea1c04c-f895-4f2a-822b-88a1d8dcbce0",
   "metadata": {},
   "source": [
    "<style>\n",
    "    body {\n",
    "        font-family: \"Times New Roman\", Times, serif;\n",
    "        font-size: 6px;\n",
    "    }\n",
    "</style>"
   ]
  },
  {
   "cell_type": "markdown",
   "id": "28f534f3-7546-49c0-b4c7-79077c50bd8a",
   "metadata": {},
   "source": [
    "### 5.1 Performance on Digits Dataset\n",
    "<style>\n",
    "    body {\n",
    "        font-family: \"Times New Roman\", Times, serif;\n",
    "        font-size: 12px;\n",
    "    }\n",
    "</style>"
   ]
  },
  {
   "cell_type": "markdown",
   "id": "d4e65eda-7312-4724-b654-096b7b6d0f8b",
   "metadata": {},
   "source": [
    "<style>\n",
    "    body {\n",
    "        font-family: \"Times New Roman\", Times, serif;\n",
    "        font-size: 6px;\n",
    "    }\n",
    "</style>"
   ]
  },
  {
   "cell_type": "markdown",
   "id": "20a182b6-e196-4711-8732-1e498e7e8f60",
   "metadata": {},
   "source": [
    "<style>\n",
    "    body {\n",
    "        font-family: \"Times New Roman\", Times, serif;\n",
    "        font-size: 11px;\n",
    "    }\n",
    "</style>\n",
    "Our experiments on the Digits dataset reveal significant differences in performance between the Adaptive Surrogate Ensemble (ASE) method and Random Search (RS). We present a detailed analysis of these results, focusing on accuracy, consistency, and convergence speed."
   ]
  },
  {
   "cell_type": "markdown",
   "id": "f74d1a71-c631-4ea8-b5f3-56b2a2640805",
   "metadata": {},
   "source": [
    "<style>\n",
    "    body {\n",
    "        font-family: \"Times New Roman\", Times, serif;\n",
    "        font-size: 6px;\n",
    "    }\n",
    "</style>"
   ]
  },
  {
   "cell_type": "markdown",
   "id": "0c78ee9b-aa77-4b79-88a4-c190d4f53116",
   "metadata": {},
   "source": [
    "#### 5.1.1 Overall Performance Comparison\n",
    "<style>\n",
    "    body {\n",
    "        font-family: \"Times New Roman\", Times, serif;\n",
    "        font-size: 11px;\n",
    "    }\n",
    "</style>"
   ]
  },
  {
   "cell_type": "markdown",
   "id": "409fec8d-b238-425e-a8f3-76f3530a2747",
   "metadata": {},
   "source": [
    "<style>\n",
    "    body {\n",
    "        font-family: \"Times New Roman\", Times, serif;\n",
    "        font-size: 6px;\n",
    "    }\n",
    "</style>"
   ]
  },
  {
   "cell_type": "markdown",
   "id": "ad88dd64-92b7-437b-b17a-0208213dc336",
   "metadata": {},
   "source": [
    "<p style=\"text-align: center;\"> Figure 1: Performance comparison of ASE and RS on the Digits dataset over 100 iterations.\n",
    "<style>\n",
    "    body {\n",
    "        font-family: \"Times New Roman\", Times, serif;\n",
    "        font-size: 11px;\n",
    "    }\n",
    "</style>"
   ]
  },
  {
   "cell_type": "markdown",
   "id": "5f2e2a6a-dc2b-4e1a-87be-f77c615539fd",
   "metadata": {},
   "source": [
    "<style>\n",
    "    body {\n",
    "        font-family: \"Times New Roman\", Times, serif;\n",
    "        font-size: 11px;\n",
    "    }\n",
    "</style>\n",
    "<center>\r\n",
    "\r\n",
    "![Performance Comparison on Digits Dataset](image1.png)\r\n",
    "\r\n",
    "</center>\r\n",
    "\n",
    "\n",
    "Figure 1 illustrates the performance trajectories of ASE and RS over the full 100 iterations of optimization. Several key observations emerge from this comparison:\n",
    "\n",
    "1. **Superior Accuracy**: ASE consistently achieves higher accuracy levels compared to RS. The mean best accuracy for ASE was 0.9724 (σ = 0.0089), while RS achieved 0.9382 (σ = 0.1247). This difference is statistically significant (p < 0.001, paired t-test).\n",
    "\n",
    "2. **Consistency**: ASE demonstrates remarkably stable performance across iterations, with a standard deviation in accuracy of only 0.0089. In contrast, RS exhibits high volatility, with accuracy varying substantially between iterations (σ = 0.1247). This stability advantage of ASE is crucial for reliable model performance in practical applications.\n",
    "\n",
    "3. **Sustained Performance**: ASE not only achieves higher peak accuracy but also maintains these high levels throughout the optimization process. The mean accuracy of ASE's last 20 iterations (0.9701) is significantly higher than that of RS (0.9298), indicating ASE's ability to consistently identify and exploit high-performing regions of the hyperparameter space."
   ]
  },
  {
   "cell_type": "markdown",
   "id": "c8fb5759-74c0-4762-a8ee-bdf0be34f298",
   "metadata": {},
   "source": [
    "<style>\n",
    "    body {\n",
    "        font-family: \"Times New Roman\", Times, serif;\n",
    "        font-size: 6px;\n",
    "    }\n",
    "</style>"
   ]
  },
  {
   "cell_type": "markdown",
   "id": "f5d0d223-3acc-4c16-83c0-53e5eafc7197",
   "metadata": {},
   "source": [
    "#### 5.1.2 Early Convergence Analysis\n",
    "<style>\n",
    "    body {\n",
    "        font-family: \"Times New Roman\", Times, serif;\n",
    "        font-size: 11px;\n",
    "    }\n",
    "</style>"
   ]
  },
  {
   "cell_type": "markdown",
   "id": "47c591a5-a56e-455e-a86f-48359980a904",
   "metadata": {},
   "source": [
    "<style>\n",
    "    body {\n",
    "        font-family: \"Times New Roman\", Times, serif;\n",
    "        font-size: 6px;\n",
    "    }\n",
    "</style>"
   ]
  },
  {
   "cell_type": "markdown",
   "id": "c8bc1450-7987-4eb7-8b70-f7af91ca06b9",
   "metadata": {},
   "source": [
    "<p style=\"text-align: center;\"> Figure 2: Zoomed view of performance on the Digits dataset (first 40 iterations).\n",
    "<style>\n",
    "    body {\n",
    "        font-family: \"Times New Roman\", Times, serif;\n",
    "        font-size: 11px;\n",
    "    }\n",
    "</style>"
   ]
  },
  {
   "cell_type": "markdown",
   "id": "6187edb7-31b3-4158-a433-4a0495e4ff87",
   "metadata": {},
   "source": [
    "<style>\n",
    "    body {\n",
    "        font-family: \"Times New Roman\", Times, serif;\n",
    "        font-size: 11px;\n",
    "    }\n",
    "</style>\n",
    "<center>\n",
    "    \n",
    "![Performance Comparison on Digits Dataset (Zoomed)](image2.png)\n",
    "\n",
    "</center>\n",
    "A closer examination of the first 40 iterations, as shown in Figure 2, provides insights into the early convergence behavior of both methods:\n",
    "\n",
    "1. **Rapid Convergence**: ASE quickly converges to high accuracy levels, reaching 95% of its maximum accuracy within the first 10 iterations on average. RS, in comparison, requires an average of 27 iterations to reach the same relative performance level.\n",
    "\n",
    "2. **Stability in Early Stages**: Even in this shorter timeframe, ASE's stability advantage is evident. The standard deviation of accuracy in the first 40 iterations for ASE is 0.0102, compared to 0.0893 for RS.\n",
    "\n",
    "3. **Resilience to Poor Configurations**: While RS experiences dramatic drops in accuracy due to the evaluation of poor hyperparameter configurations, ASE shows resilience against such fluctuations. This suggests that ASE's surrogate models effectively guide the search away from suboptimal regions of the hyperparameter space."
   ]
  },
  {
   "cell_type": "markdown",
   "id": "909f1530-bb44-4415-9769-3069e48ec62b",
   "metadata": {},
   "source": [
    "<style>\n",
    "    body {\n",
    "        font-family: \"Times New Roman\", Times, serif;\n",
    "        font-size: 6px;\n",
    "    }\n",
    "</style>"
   ]
  },
  {
   "cell_type": "markdown",
   "id": "69c06432-4b64-4fe3-8e6e-b11808c514c1",
   "metadata": {},
   "source": [
    "#### 5.1.3 Statistical Analysis\n",
    "<style>\n",
    "    body {\n",
    "        font-family: \"Times New Roman\", Times, serif;\n",
    "        font-size: 11px;\n",
    "    }\n",
    "</style>"
   ]
  },
  {
   "cell_type": "markdown",
   "id": "f08148c7-0b77-4b2e-a826-a6fbe59bd6dc",
   "metadata": {},
   "source": [
    "<style>\n",
    "    body {\n",
    "        font-family: \"Times New Roman\", Times, serif;\n",
    "        font-size: 6px;\n",
    "    }\n",
    "</style>"
   ]
  },
  {
   "cell_type": "markdown",
   "id": "e83d233f-4483-49d2-8ec3-c626ff9fc673",
   "metadata": {},
   "source": [
    "<style>\n",
    "    body {\n",
    "        font-family: \"Times New Roman\", Times, serif;\n",
    "        font-size: 11px;\n",
    "    }\n",
    "</style>\n",
    "To quantify the performance difference between ASE and RS, we conducted additional statistical analyses:\n",
    "\n",
    "1. **Convergence Speed**: ASE reached 95% of its maximum accuracy in significantly fewer iterations than RS (mean iterations: ASE = 8.3, RS = 26.7; p < 0.001, Wilcoxon signed-rank test).\n",
    "\n",
    "2. **Accuracy Stability**: The coefficient of variation (CV) for accuracy over all iterations was substantially lower for ASE (CV = 0.0091) compared to RS (CV = 0.1329), indicating ASE's superior stability.\n",
    "\n",
    "3. **Final Performance**: In the last 10 iterations, ASE consistently outperformed RS, with a mean accuracy difference of 0.0412 (95% CI: [0.0378, 0.0446])."
   ]
  },
  {
   "cell_type": "markdown",
   "id": "1fc10e90-dd83-46b0-a606-2c3dee213065",
   "metadata": {},
   "source": [
    "<style>\n",
    "    body {\n",
    "        font-family: \"Times New Roman\", Times, serif;\n",
    "        font-size: 6px;\n",
    "    }\n",
    "</style>"
   ]
  },
  {
   "cell_type": "markdown",
   "id": "7eec3be0-9368-46c5-bf5f-a30ab314fce4",
   "metadata": {},
   "source": [
    "#### 5.1.4 Implications\n",
    "<style>\n",
    "    body {\n",
    "        font-family: \"Times New Roman\", Times, serif;\n",
    "        font-size: 11px;\n",
    "    }\n",
    "</style>"
   ]
  },
  {
   "cell_type": "markdown",
   "id": "b68da5fb-0475-400f-90c8-de99b2017f19",
   "metadata": {},
   "source": [
    "<style>\n",
    "    body {\n",
    "        font-family: \"Times New Roman\", Times, serif;\n",
    "        font-size: 6px;\n",
    "    }\n",
    "</style>"
   ]
  },
  {
   "cell_type": "markdown",
   "id": "91655f33-884a-4141-82d8-26f6aae83361",
   "metadata": {},
   "source": [
    "<style>\n",
    "    body {\n",
    "        font-family: \"Times New Roman\", Times, serif;\n",
    "        font-size: 11px;\n",
    "    }\n",
    "</style>\n",
    "The superior performance of ASE on the Digits dataset has several important implications:\n",
    "\n",
    "1. **Efficiency in High-Dimensional Spaces**: The Digits dataset, with its 64 features, represents a relatively high-dimensional problem. ASE's strong performance suggests its effectiveness in navigating complex hyperparameter landscapes.\n",
    "\n",
    "2. **Robustness to Initialization**: ASE's consistent performance across multiple runs indicates its robustness to initial conditions, a crucial factor for reliable hyperparameter optimization.\n",
    "\n",
    "3. **Practical Advantages**: The rapid convergence and stability of ASE translate to practical benefits in real-world scenarios, where computational resources may be limited and consistent performance is valued.\n",
    "\n",
    "4. **Potential for Transfer Learning**: ASE's ability to quickly identify high-performing regions of the hyperparameter space suggests potential for transfer learning applications, where knowledge from one optimization task could be leveraged to accelerate optimization on related tasks.\n"
   ]
  },
  {
   "cell_type": "markdown",
   "id": "2bd70d1f-71e8-46e0-8984-dccc5fb332c4",
   "metadata": {},
   "source": [
    "<style>\n",
    "    body {\n",
    "        font-family: \"Times New Roman\", Times, serif;\n",
    "        font-size: 6px;\n",
    "    }\n",
    "</style>"
   ]
  },
  {
   "cell_type": "markdown",
   "id": "19dc9e43-75a2-45b1-8a4a-c9edbb3ccd2d",
   "metadata": {},
   "source": [
    "### 5.2 Performance on Breast Cancer Dataset\n",
    "<style>\n",
    "    body {\n",
    "        font-family: \"Times New Roman\", Times, serif;\n",
    "        font-size: 12px;\n",
    "    }\n",
    "</style>ly for complex, high-dimensional classification tasks."
   ]
  },
  {
   "cell_type": "markdown",
   "id": "35dc4192-0ed6-4c42-aea8-bc14c83b214d",
   "metadata": {},
   "source": [
    "<style>\n",
    "    body {\n",
    "        font-family: \"Times New Roman\", Times, serif;\n",
    "        font-size: 6px;\n",
    "    }\n",
    "</style>"
   ]
  },
  {
   "cell_type": "markdown",
   "id": "7f551f9f-399d-4e2e-a1bc-f69f2c58f9f9",
   "metadata": {},
   "source": [
    "<style>\n",
    "    body {\n",
    "        font-family: \"Times New Roman\", Times, serif;\n",
    "        font-size: 11px;\n",
    "    }\n",
    "</style>\n",
    "Our experiments on the Breast Cancer dataset reveal interesting insights into the performance of the Adaptive Surrogate Ensemble (ASE) method compared to Random Search (RS). We present a detailed analysis of these results, focusing on accuracy, stability, and the unique characteristics of this dataset."
   ]
  },
  {
   "cell_type": "markdown",
   "id": "bc44a188-8337-4e09-b6ea-2353d1e1670b",
   "metadata": {},
   "source": [
    "<style>\n",
    "    body {\n",
    "        font-family: \"Times New Roman\", Times, serif;\n",
    "        font-size: 6px;\n",
    "    }\n",
    "</style>"
   ]
  },
  {
   "cell_type": "markdown",
   "id": "402de72c-a309-472a-868f-541ad6aa6b94",
   "metadata": {},
   "source": [
    "#### 5.2.1 Overall Performance Comparison\n",
    "<style>\n",
    "    body {\n",
    "        font-family: \"Times New Roman\", Times, serif;\n",
    "        font-size: 11px;\n",
    "    }\n",
    "</style>"
   ]
  },
  {
   "cell_type": "markdown",
   "id": "cace2cf4-81cb-4f8c-beb2-d7a5b3e225a7",
   "metadata": {},
   "source": [
    "<style>\n",
    "    body {\n",
    "        font-family: \"Times New Roman\", Times, serif;\n",
    "        font-size: 6px;\n",
    "    }\n",
    "</style>"
   ]
  },
  {
   "cell_type": "markdown",
   "id": "18bff06f-4421-4936-8b16-8fc22076a987",
   "metadata": {},
   "source": [
    "<p style=\"text-align: center;\"> Figure 3: Performance comparison of ASE and RS on the Breast Cancer dataset over 80 iterations.\n",
    "<style>\n",
    "    body {\n",
    "        font-family: \"Times New Roman\", Times, serif;\n",
    "        font-size: 11px;\n",
    "    }\n",
    "</style>"
   ]
  },
  {
   "cell_type": "markdown",
   "id": "04214c4a-af41-4dcf-b0c6-22c1cb906249",
   "metadata": {},
   "source": [
    "<style>\n",
    "    body {\n",
    "        font-family: \"Times New Roman\", Times, serif;\n",
    "        font-size: 11px;\n",
    "    }\n",
    "</style>\n",
    "<center>\n",
    "    \n",
    "![Performance Comparison on Breast Cancer Dataset](image3.png)\n",
    "\n",
    "</center>\n",
    "Figure 3 illustrates the performance trajectories of ASE and RS over 80 iterations of optimization. Several key observations emerge from this comparison:\n",
    "\n",
    "1. **High Accuracy Plateau**: Both ASE and RS achieve high accuracy levels on this dataset, with mean best accuracies of 0.9684 (σ = 0.0071) for ASE and 0.9532 (σ = 0.0918) for RS. This suggests that the Breast Cancer dataset may present a relatively easier optimization problem compared to the Digits dataset.\n",
    "\n",
    "2. **Stability Advantage**: ASE maintains a more stable accuracy rate throughout the optimization process. The standard deviation of accuracy across all iterations for ASE (0.0071) is significantly lower than that of RS (0.0918), indicating ASE's superior consistency (F-test for equality of variances, p < 0.001).\n",
    "\n",
    "3. **Resilience to Fluctuations**: While RS exhibits occasional sharp drops in accuracy, ASE demonstrates remarkable resilience against such fluctuations. This stability is particularly evident in the latter half of the optimization process.\n",
    "\n",
    "4. **Marginal Performance Gap**: The performance gap between ASE and RS is less pronounced compared to the Digits dataset. However, ASE still outperforms RS in terms of both peak accuracy and consistency."
   ]
  },
  {
   "cell_type": "markdown",
   "id": "c7e0fb4b-4e4c-4768-873f-fdbd43f6d310",
   "metadata": {},
   "source": [
    "<style>\n",
    "    body {\n",
    "        font-family: \"Times New Roman\", Times, serif;\n",
    "        font-size: 6px;\n",
    "    }\n",
    "</style>"
   ]
  },
  {
   "cell_type": "markdown",
   "id": "f08c2cdc-07da-4543-86b9-cd33b23e38d3",
   "metadata": {},
   "source": [
    "#### 5.2.2 Early Convergence Analysis\n",
    "<style>\n",
    "    body {\n",
    "        font-family: \"Times New Roman\", Times, serif;\n",
    "        font-size: 11px;\n",
    "    }\n",
    "</style>"
   ]
  },
  {
   "cell_type": "markdown",
   "id": "bf5ee6df-44d8-4d14-9eff-b48bea46b8aa",
   "metadata": {},
   "source": [
    "<style>\n",
    "    body {\n",
    "        font-family: \"Times New Roman\", Times, serif;\n",
    "        font-size: 6px;\n",
    "    }\n",
    "</style>"
   ]
  },
  {
   "cell_type": "markdown",
   "id": "408d8291-9df5-4b50-9417-4c82794ed37b",
   "metadata": {},
   "source": [
    "<p style=\"text-align: center;\"> Figure 4: Zoomed view of performance on the Breast Cancer dataset (first 18 iterations).\n",
    "<style>\n",
    "    body {\n",
    "        font-family: \"Times New Roman\", Times, serif;\n",
    "        font-size: 11px;\n",
    "    }\n",
    "</style>"
   ]
  },
  {
   "cell_type": "markdown",
   "id": "272f128e-3294-4362-819d-f01523fe3ebf",
   "metadata": {},
   "source": [
    "<style>\n",
    "    body {\n",
    "        font-family: \"Times New Roman\", Times, serif;\n",
    "        font-size: 11px;\n",
    "    }\n",
    "</style>\n",
    "<center>\n",
    "    \n",
    "![Performance Comparison on Breast Cancer Dataset (Zoomed)](image4.png)\n",
    "\n",
    "</center>\n",
    "A closer examination of the first 18 iterations, as shown in Figure 4, provides insights into the early convergence behavior of both methods:\n",
    "\n",
    "1. **Rapid Initial Convergence**: ASE maintains a consistently high accuracy level from the early iterations, reaching near-optimal performance within the first 5 iterations on average. RS, while also showing quick improvement, experiences more variation in these early stages.\n",
    "\n",
    "2. **Early Stability**: The stability advantage of ASE is evident even in this shorter timeframe. The standard deviation of accuracy in the first 18 iterations for ASE is 0.0068, compared to 0.0224 for RS.\n",
    "\n",
    "3. **Exploration vs. Exploitation**: The performance patterns suggest that ASE quickly identifies promising regions of the hyperparameter space and exploits them effectively. RS, true to its nature, continues to explore more broadly, resulting in higher variability."
   ]
  },
  {
   "cell_type": "markdown",
   "id": "9baab4ae-c8d7-4dd5-94e6-a035eb357ec9",
   "metadata": {},
   "source": [
    "<style>\n",
    "    body {\n",
    "        font-family: \"Times New Roman\", Times, serif;\n",
    "        font-size: 6px;\n",
    "    }\n",
    "</style>"
   ]
  },
  {
   "cell_type": "markdown",
   "id": "ddb1ed62-dc80-41bc-862a-13aed32e2696",
   "metadata": {},
   "source": [
    "#### 5.2.3 Statistical Analysis\n",
    "<style>\n",
    "    body {\n",
    "        font-family: \"Times New Roman\", Times, serif;\n",
    "        font-size: 11px;\n",
    "    }\n",
    "</style>"
   ]
  },
  {
   "cell_type": "markdown",
   "id": "f3d97bd6-9d61-40c2-9bb8-14d672b2ffd8",
   "metadata": {},
   "source": [
    "<style>\n",
    "    body {\n",
    "        font-family: \"Times New Roman\", Times, serif;\n",
    "        font-size: 6px;\n",
    "    }\n",
    "</style>"
   ]
  },
  {
   "cell_type": "markdown",
   "id": "fc2eba90-24d2-4644-9e12-81f7f548e4aa",
   "metadata": {},
   "source": [
    "<style>\n",
    "    body {\n",
    "        font-family: \"Times New Roman\", Times, serif;\n",
    "        font-size: 11px;\n",
    "    }\n",
    "</style>\n",
    "To quantify the performance difference between ASE and RS on the Breast Cancer dataset, we conducted additional statistical analyses:\n",
    "\n",
    "1. **Convergence Speed**: ASE reached 95% of its maximum accuracy in fewer iterations than RS (mean iterations: ASE = 3.7, RS = 7.2; p < 0.05, Wilcoxon signed-rank test).\n",
    "\n",
    "2. **Accuracy Stability**: The coefficient of variation (CV) for accuracy over all iterations was substantially lower for ASE (CV = 0.0073) compared to RS (CV = 0.0963), further confirming ASE's superior stability.\n",
    "\n",
    "3. **Final Performance**: In the last 20 iterations, ASE consistently outperformed RS, with a mean accuracy difference of 0.0152 (95% CI: [0.0118, 0.0186])."
   ]
  },
  {
   "cell_type": "markdown",
   "id": "5ccdc48e-2233-4dec-bdeb-c6c47c50ec59",
   "metadata": {},
   "source": [
    "<style>\n",
    "    body {\n",
    "        font-family: \"Times New Roman\", Times, serif;\n",
    "        font-size: 6px;\n",
    "    }\n",
    "</style>"
   ]
  },
  {
   "cell_type": "markdown",
   "id": "dd6cf1d6-ab9c-446e-aa1b-d09db4c53c2f",
   "metadata": {},
   "source": [
    "#### 5.2.4 Implications and Discussion\n",
    "<style>\n",
    "    body {\n",
    "        font-family: \"Times New Roman\", Times, serif;\n",
    "        font-size: 11px;\n",
    "    }\n",
    "</style>"
   ]
  },
  {
   "cell_type": "markdown",
   "id": "492adcd2-a4b1-45a2-a0ee-9b0b1a0fba9e",
   "metadata": {},
   "source": [
    "<style>\n",
    "    body {\n",
    "        font-family: \"Times New Roman\", Times, serif;\n",
    "        font-size: 6px;\n",
    "    }\n",
    "</style>"
   ]
  },
  {
   "cell_type": "markdown",
   "id": "c7cf956b-69b3-4d3d-91e5-43cd715ebb18",
   "metadata": {},
   "source": [
    "<style>\n",
    "    body {\n",
    "        font-family: \"Times New Roman\", Times, serif;\n",
    "        font-size: 11px;\n",
    "    }\n",
    "</style>\n",
    "The performance of ASE on the Breast Cancer dataset, while still superior to RS, presents some interesting implications:\n",
    "\n",
    "1. **Effectiveness on \"Easier\" Problems**: The high accuracy achieved by both methods suggests that the Breast Cancer dataset may have a more forgiving hyperparameter landscape. ASE's ability to still outperform RS in this scenario demonstrates its versatility across different problem complexities.\n",
    "\n",
    "2. **Diminishing Returns**: The smaller performance gap between ASE and RS on this dataset highlights the concept of diminishing returns in hyperparameter optimization. As the baseline performance is already high, the room for improvement is limited, making the advantages of more sophisticated methods less pronounced.\n",
    "\n",
    "3. **Importance of Stability**: Despite the smaller accuracy gap, ASE's superior stability remains a crucial advantage. In real-world applications, especially in sensitive domains like medical diagnostics, consistent performance can be as important as peak performance.\n",
    "\n",
    "4. **Efficiency Considerations**: ASE's ability to reach near-optimal performance in fewer iterations suggests potential computational efficiency gains, which could be particularly valuable in resource-constrained environments.\n",
    "\n",
    "5. **Dataset Characteristics**: The performance patterns observed hint at the underlying structure of the Breast Cancer dataset's hyperparameter space. The relative ease with which both methods achieve high accuracy suggests a potentially smoother or more convex optimization landscape compared to the Digits dataset.\n",
    "\n",
    "In conclusion, our results on the Breast Cancer dataset demonstrate that ASE maintains its advantages over RS in terms of stability and convergence speed, even on a dataset that appears to present a less challenging optimization problem. These findings underscore the versatility of the ASE approach and its potential value across a spectrum of hyperparameter optimization tasks, from more challenging to relatively straightforward problems."
   ]
  },
  {
   "cell_type": "markdown",
   "id": "46537483-51b3-488d-8a76-7a57b15c0b63",
   "metadata": {},
   "source": [
    "<style>\n",
    "    body {\n",
    "        font-family: \"Times New Roman\", Times, serif;\n",
    "        font-size: 6px;\n",
    "    }\n",
    "</style>"
   ]
  },
  {
   "cell_type": "markdown",
   "id": "ec997770-b404-489a-a28c-0ffc30e93798",
   "metadata": {},
   "source": [
    "### 5.3 Statistical Analysis\n",
    "<style>\n",
    "    body {\n",
    "        font-family: \"Times New Roman\", Times, serif;\n",
    "        font-size: 12px;\n",
    "    }\n",
    "</style>"
   ]
  },
  {
   "cell_type": "markdown",
   "id": "7cc46ff5-bc7c-4a0e-a0f0-5d287546210d",
   "metadata": {},
   "source": [
    "<style>\n",
    "    body {\n",
    "        font-family: \"Times New Roman\", Times, serif;\n",
    "        font-size: 6px;\n",
    "    }\n",
    "</style>"
   ]
  },
  {
   "cell_type": "markdown",
   "id": "471e24de-8b82-47bd-b857-d422656daf48",
   "metadata": {},
   "source": [
    "<p style=\"text-align: center;\"> Table 1: Statistical summary of ASE and RS performance.\n",
    "<style>\n",
    "    body {\n",
    "        font-family: \"Times New Roman\", Times, serif;\n",
    "        font-size: 11px;\n",
    "    }\n",
    "</style>"
   ]
  },
  {
   "cell_type": "markdown",
   "id": "156d77c9-1429-4e40-82b5-a9bedf7a6b3b",
   "metadata": {},
   "source": [
    "<style>\n",
    "    body {\n",
    "        font-family: \"Times New Roman\", Times, serif;\n",
    "        font-size: 11px;\n",
    "    }\n",
    "</style>\n",
    "| Dataset       | Method | Mean Accuracy | Std Dev | Median Accuracy | Max Accuracy |\n",
    "|---------------|--------|---------------|---------|------------------|--------------|\n",
    "| Digits        | ASE    | 0.9724        | 0.0089  | 0.9744           | 0.9833       |\n",
    "|               | RS     | 0.9382        | 0.1247  | 0.9689           | 0.9833       |\n",
    "| Breast Cancer | ASE    | 0.9684        | 0.0071  | 0.9701           | 0.9736       |\n",
    "|               | RS     | 0.9532        | 0.0918  | 0.9736           | 0.9736       |\n",
    "\n",
    "To quantify the performance difference between ASE and RS, we conducted a statistical analysis of the results. Table 1 summarizes the key statistics for both datasets. We performed a Mann-Whitney U test to assess the statistical significance of the performance difference. For both datasets, ASE significantly outperformed RS (p < 0.001)."
   ]
  },
  {
   "cell_type": "markdown",
   "id": "8d0d2cb0-c0e7-4465-8659-2b7b413bac70",
   "metadata": {},
   "source": [
    "<style>\n",
    "    body {\n",
    "        font-family: \"Times New Roman\", Times, serif;\n",
    "        font-size: 6px;\n",
    "    }\n",
    "</style>"
   ]
  },
  {
   "cell_type": "markdown",
   "id": "aebec55a-0447-468a-badd-7406172b7b1a",
   "metadata": {},
   "source": [
    "### 5.4 Discussion\n",
    "<style>\n",
    "    body {\n",
    "        font-family: \"Times New Roman\", Times, serif;\n",
    "        font-size: 12px;\n",
    "    }\n",
    "</style>"
   ]
  },
  {
   "cell_type": "markdown",
   "id": "774d3023-4ec5-45da-9eac-f8778f441dd7",
   "metadata": {},
   "source": [
    "<style>\n",
    "    body {\n",
    "        font-family: \"Times New Roman\", Times, serif;\n",
    "        font-size: 6px;\n",
    "    }\n",
    "</style>\n",
    "Our comparative study of the Adaptive Surrogate Ensemble (ASE) method and Random Search (RS) yields several significant insights into the nature of hyperparameter optimization. These findings not only demonstrate the superiority of ASE but also shed light on the fundamental challenges and opportunities in this field."
   ]
  },
  {
   "cell_type": "markdown",
   "id": "2c07f6b9-80fc-4f23-aa75-03108e542d2b",
   "metadata": {},
   "source": [
    "<style>\n",
    "    body {\n",
    "        font-family: \"Times New Roman\", Times, serif;\n",
    "        font-size: 6px;\n",
    "    }\n",
    "</style>"
   ]
  },
  {
   "cell_type": "markdown",
   "id": "a4bbf581-5d73-4cf8-9b0d-52adda087011",
   "metadata": {},
   "source": [
    "#### 5.4.1 Stability and Reliability in Hyperparameter Optimization\n",
    "<style>\n",
    "    body {\n",
    "        font-family: \"Times New Roman\", Times, serif;\n",
    "        font-size: 11px;\n",
    "    }\n",
    "</style>"
   ]
  },
  {
   "cell_type": "markdown",
   "id": "889affa3-1baa-4b5d-a754-2a13f4b10720",
   "metadata": {},
   "source": [
    "<style>\n",
    "    body {\n",
    "        font-family: \"Times New Roman\", Times, serif;\n",
    "        font-size: 6px;\n",
    "    }\n",
    "</style> more challenging to relatively straightforward problems."
   ]
  },
  {
   "cell_type": "markdown",
   "id": "3096e54e-d75d-4387-ac8d-18bd5fb24f8f",
   "metadata": {},
   "source": [
    "<style>\n",
    "    body {\n",
    "        font-family: \"Times New Roman\", Times, serif;\n",
    "        font-size: 11px;\n",
    "    }\n",
    "</style>\n",
    "The most striking advantage of ASE over RS is its remarkable stability across different datasets and multiple runs. With significantly lower variance in performance (σ_Digits = 0.0089, σ_BreastCancer = 0.0071 for ASE; σ_Digits = 0.1247, σ_BreastCancer = 0.0918 for RS), ASE addresses one of the most critical challenges in hyperparameter optimization: reproducibility. This stability is not merely a statistical curiosity but has profound implications for real-world applications:\n",
    "\n",
    "1. **Trustworthiness in Industrial Deployments**: In production environments, where model performance consistency is crucial, ASE's stability provides a level of reliability that could be the difference between a successful deployment and a costly failure.\n",
    "\n",
    "2. **Reduced Need for Multiple Runs**: The high variability of RS often necessitates multiple optimization runs to ensure good results. ASE's consistency potentially reduces this requirement, saving computational resources and time.\n",
    "\n",
    "3. **Insights into Hyperparameter Landscape**: The stability of ASE suggests that it's better at capturing the true structure of the hyperparameter space, rather than being misled by random fluctuations. This provides valuable implicit information about the nature of the optimization problem itself."
   ]
  },
  {
   "cell_type": "markdown",
   "id": "047ccf31-5fc2-459a-87d4-b18457af5be9",
   "metadata": {},
   "source": [
    "<style>\n",
    "    body {\n",
    "        font-family: \"Times New Roman\", Times, serif;\n",
    "        font-size: 6px;\n",
    "    }\n",
    "</style>"
   ]
  },
  {
   "cell_type": "markdown",
   "id": "b96980e5-e42f-467a-9c53-9e4e3807e104",
   "metadata": {},
   "source": [
    "#### 5.4.2 Efficiency and Convergence: Implications for Resource Utilization\n",
    "<style>\n",
    "    body {\n",
    "        font-family: \"Times New Roman\", Times, serif;\n",
    "        font-size: 11px;\n",
    "    }\n",
    "</style>"
   ]
  },
  {
   "cell_type": "markdown",
   "id": "8d4d869b-2bf3-4f38-b6aa-b2b5fee3eddf",
   "metadata": {},
   "source": [
    "<style>\n",
    "    body {\n",
    "        font-family: \"Times New Roman\", Times, serif;\n",
    "        font-size: 6px;\n",
    "    }\n",
    "</style>"
   ]
  },
  {
   "cell_type": "markdown",
   "id": "a7088db5-94c4-481b-82b6-7961f2cf01d6",
   "metadata": {},
   "source": [
    "<style>\n",
    "    body {\n",
    "        font-family: \"Times New Roman\", Times, serif;\n",
    "        font-size: 11px;\n",
    "    }\n",
    "</style>\n",
    "ASE's superior convergence speed (reaching 95% of maximum accuracy in 8.3 and 3.7 iterations for Digits and Breast Cancer datasets, compared to RS's 26.7 and 7.2 iterations) is not just about faster results. It represents a fundamental shift in how we can approach hyperparameter optimization:\n",
    "\n",
    "1. **Democratization of Advanced ML Models**: Faster convergence means that complex models with many hyperparameters become more accessible to researchers and organizations with limited computational resources.\n",
    "\n",
    "2. **Environmental Impact**: By requiring fewer iterations, ASE could significantly reduce the energy consumption and consequent environmental impact of large-scale machine learning experiments.\n",
    "\n",
    "3. **Iterative Development Acceleration**: In practical ML development, where models often undergo multiple rounds of refinement, ASE's efficiency could dramatically shorten development cycles."
   ]
  },
  {
   "cell_type": "markdown",
   "id": "4e60e01e-8bf0-4e5c-837a-441dc24064f0",
   "metadata": {},
   "source": [
    "<style>\n",
    "    body {\n",
    "        font-family: \"Times New Roman\", Times, serif;\n",
    "        font-size: 6px;\n",
    "    }\n",
    "</style>"
   ]
  },
  {
   "cell_type": "markdown",
   "id": "01fb8422-1dac-427d-b847-cfb564b38009",
   "metadata": {},
   "source": [
    "#### 5.4.3 Adaptability Across Problem Spaces\n",
    "<style>\n",
    "    body {\n",
    "        font-family: \"Times New Roman\", Times, serif;\n",
    "        font-size: 11px;\n",
    "    }\n",
    "</style>"
   ]
  },
  {
   "cell_type": "markdown",
   "id": "933ef9f7-6340-4907-9252-d1b57c8c8cee",
   "metadata": {},
   "source": [
    "<style>\n",
    "    body {\n",
    "        font-family: \"Times New Roman\", Times, serif;\n",
    "        font-size: 6px;\n",
    "    }\n",
    "</style>"
   ]
  },
  {
   "cell_type": "markdown",
   "id": "9322e8cc-2c56-49d5-a009-b03fa15cf7c5",
   "metadata": {},
   "source": [
    "<style>\n",
    "    body {\n",
    "        font-family: \"Times New Roman\", Times, serif;\n",
    "        font-size: 11px;\n",
    "    }\n",
    "</style>\n",
    "ASE's consistent outperformance across different datasets (mean accuracy difference: Digits = 0.0342, Breast Cancer = 0.0152) points to a crucial quality in hyperparameter optimization methods: versatility. This adaptability has several important implications:\n",
    "\n",
    "1. **Generalizability of Optimization Strategies**: ASE's success across varied problems suggests that certain principles of efficient hyperparameter search may be universal, opening avenues for developing general-purpose optimization strategies.\n",
    "\n",
    "2. **Robustness to Problem Complexity**: The method's efficacy in both multi-class (Digits) and binary (Breast Cancer) classification tasks indicates resilience to problem complexity, a valuable trait as ML tasks grow increasingly sophisticated.\n",
    "\n",
    "3. **Potential for Transfer Learning**: ASE's adaptability hints at the possibility of transferring knowledge between different hyperparameter optimization tasks, a promising direction for future research."
   ]
  },
  {
   "cell_type": "markdown",
   "id": "889b6d63-5681-4f67-b5c1-2b091b02cc4b",
   "metadata": {},
   "source": [
    "<style>\n",
    "    body {\n",
    "        font-family: \"Times New Roman\", Times, serif;\n",
    "        font-size: 6px;\n",
    "    }\n",
    "</style>"
   ]
  },
  {
   "cell_type": "markdown",
   "id": "dfa29f72-6768-4a40-9aee-860ca86e2387",
   "metadata": {},
   "source": [
    "#### 5.4.4 Balancing Exploration and Exploitation\n",
    "<style>\n",
    "    body {\n",
    "        font-family: \"Times New Roman\", Times, serif;\n",
    "        font-size: 11px;\n",
    "    }\n",
    "</style>"
   ]
  },
  {
   "cell_type": "markdown",
   "id": "2f8c075b-d5ff-4b51-a302-b023e3b746a0",
   "metadata": {},
   "source": [
    "<style>\n",
    "    body {\n",
    "        font-family: \"Times New Roman\", Times, serif;\n",
    "        font-size: 6px;\n",
    "    }\n",
    "</style>"
   ]
  },
  {
   "cell_type": "markdown",
   "id": "916dc97b-cc68-4765-b0b7-1ab84bb500bf",
   "metadata": {},
   "source": [
    "<style>\n",
    "    body {\n",
    "        font-family: \"Times New Roman\", Times, serif;\n",
    "        font-size: 11px;\n",
    "    }\n",
    "</style>\n",
    "The dynamic weight adjustment of ASE's surrogate models (GP, RF, and GBM) offers a nuanced approach to the exploration-exploitation dilemma:\n",
    "\n",
    "1. **Adaptive Search Strategies**: Unlike RS's uniformly random approach, ASE's ability to focus on promising regions while maintaining diversity represents a more intelligent search strategy.\n",
    "\n",
    "2. **Implicit Multi-Armed Bandit**: The weight adjustment mechanism can be viewed as an implicit multi-armed bandit problem, where each surrogate model is an 'arm' whose utility is continuously re-evaluated.\n",
    "\n",
    "3. **Meta-Learning Potential**: This adaptive behavior suggests that ASE is implicitly learning about the structure of the hyperparameter space during the optimization process, a form of meta-learning that could be further exploited."
   ]
  },
  {
   "cell_type": "markdown",
   "id": "873e626a-bbce-4386-ad56-fd995d891b34",
   "metadata": {},
   "source": [
    "<style>\n",
    "    body {\n",
    "        font-family: \"Times New Roman\", Times, serif;\n",
    "        font-size: 6px;\n",
    "    }\n",
    "</style>"
   ]
  },
  {
   "cell_type": "markdown",
   "id": "7d7e18d1-12c9-426e-82be-4f85467b1346",
   "metadata": {},
   "source": [
    "#### 5.4.5 Scalability and Future Challenges\n",
    "<style>\n",
    "    body {\n",
    "        font-family: \"Times New Roman\", Times, serif;\n",
    "        font-size: 11px;\n",
    "    }\n",
    "</style>"
   ]
  },
  {
   "cell_type": "markdown",
   "id": "c514cfb1-2dbd-4d33-88e8-51b9ef6ce6ba",
   "metadata": {},
   "source": [
    "<style>\n",
    "    body {\n",
    "        font-family: \"Times New Roman\", Times, serif;\n",
    "        font-size: 6px;\n",
    "    }\n",
    "</style>"
   ]
  },
  {
   "cell_type": "markdown",
   "id": "6d768326-f510-4767-add8-1d557feb1ad3",
   "metadata": {},
   "source": [
    "<style>\n",
    "    body {\n",
    "        font-family: \"Times New Roman\", Times, serif;\n",
    "        font-size: 11px;\n",
    "    }\n",
    "</style>\n",
    "While ASE shows promising performance on datasets of varying sizes and dimensionalities, its scalability to truly large-scale problems remains an open question:\n",
    "\n",
    "1. **Computational Complexity**: As dataset sizes and model complexities grow, the computational cost of maintaining and updating multiple surrogate models may become a bottleneck.\n",
    "\n",
    "2. **Curse of Dimensionality**: In very high-dimensional hyperparameter spaces, even ASE may struggle. Investigating its performance limits could yield insights into the fundamental challenges of high-dimensional optimization.\n",
    "\n",
    "3. **Parallel and Distributed Optimization**: Exploring ways to parallelize ASE could be crucial for its application to large-scale problems, potentially opening new research directions in distributed hyperparameter optimization.\n",
    "\n",
    "In conclusion, ASE's superior performance can be attributed to its ability to learn and adapt to the structure of the hyperparameter space. By combining multiple surrogate models and adjusting their weights, ASE captures complex relationships between hyperparameters and model performance that RS cannot exploit. This adaptive capability allows ASE to create a more informed and efficient search strategy, leading to better overall performance.\n",
    "\n",
    "The insights gained from this study not only validate the effectiveness of ASE but also point to broader principles in hyperparameter optimization. They suggest that the future of this field lies in adaptive, multi-model approaches that can efficiently navigate complex hyperparameter landscapes while providing stable and reliable results."
   ]
  },
  {
   "cell_type": "markdown",
   "id": "bba90521-153a-4ed9-8fe0-01eee5b58f41",
   "metadata": {},
   "source": [
    "<style>\n",
    "    body {\n",
    "        font-family: \"Times New Roman\", Times, serif;\n",
    "        font-size: 12px;\n",
    "    }\n",
    "</style>"
   ]
  },
  {
   "cell_type": "markdown",
   "id": "85369d71-06f3-4aa8-873f-5c516a6bc3dc",
   "metadata": {},
   "source": [
    "## 6. Conclusion and Future Work\n",
    "<style>\n",
    "    body {\n",
    "        font-family: \"Times New Roman\", Times, serif;\n",
    "        font-size: 13px;\n",
    "    }\n",
    "</style>\n",
    "This study introduces the Adaptive Surrogate Ensemble (ASE) method for hyperparameter optimization, presenting a significant advancement in the field of AutoML. Through rigorous theoretical analysis and comprehensive empirical evaluation, we have demonstrated ASE's superiority over Random Search (RS) across multiple dimensions of performance. landscapes while providing stable and reliable results."
   ]
  },
  {
   "cell_type": "markdown",
   "id": "89cb2576-ab21-4022-8dc3-1b11a9bd825f",
   "metadata": {},
   "source": [
    "<style>\n",
    "    body {\n",
    "        font-family: \"Times New Roman\", Times, serif;\n",
    "        font-size: 6px;\n",
    "    }\n",
    "</style>"
   ]
  },
  {
   "cell_type": "markdown",
   "id": "3399bc0a-9f82-4676-a980-5f97947e1c8a",
   "metadata": {},
   "source": [
    "<style>\n",
    "    body {\n",
    "        font-family: \"Times New Roman\", Times, serif;\n",
    "        font-size: 11px;\n",
    "    }\n",
    "</style>\n",
    "This study introduces the Adaptive Surrogate Ensemble (ASE) method for hyperparameter optimization, presenting a significant advancement in the field of AutoML. Through rigorous theoretical analysis and comprehensive empirical evaluation, we have demonstrated ASE's superiority over Random Search (RS) across multiple dimensions of performance."
   ]
  },
  {
   "cell_type": "markdown",
   "id": "bda51848-e343-4f90-8a9d-84b2a8ac8bd7",
   "metadata": {},
   "source": [
    "<style>\n",
    "    body {\n",
    "        font-family: \"Times New Roman\", Times, serif;\n",
    "        font-size: 6px;\n",
    "    }\n",
    "</style>"
   ]
  },
  {
   "cell_type": "markdown",
   "id": "ce86cf2a-ead3-476f-a9fe-dfd5bdfdcc33",
   "metadata": {},
   "source": [
    "### 6.1 Summary of Contributions\n",
    "<style>\n",
    "    body {\n",
    "        font-family: \"Times New Roman\", Times, serif;\n",
    "        font-size: 12px;\n",
    "    }\n",
    "</style>"
   ]
  },
  {
   "cell_type": "markdown",
   "id": "c56030bd-1297-4916-a821-bdd7190d27e0",
   "metadata": {},
   "source": [
    "<style>\n",
    "    body {\n",
    "        font-family: \"Times New Roman\", Times, serif;\n",
    "        font-size: 6px;\n",
    "    }\n",
    "</style>"
   ]
  },
  {
   "cell_type": "markdown",
   "id": "f0aedff2-6d96-4fb7-96eb-515dbb7854ab",
   "metadata": {},
   "source": [
    "<style>\n",
    "    body {\n",
    "        font-family: \"Times New Roman\", Times, serif;\n",
    "        font-size: 11px;\n",
    "    }\n",
    "</style>\n",
    "1. **Novel Ensemble Approach**: \n",
    "   ASE represents a pioneering approach to hyperparameter optimization, leveraging an adaptive ensemble of surrogate models. By combining Gaussian Processes, Random Forests, and Gradient Boosting Machines, ASE adapts dynamically to the characteristics of the search space. This adaptivity allows ASE to capture complex, non-linear relationships between hyperparameters and model performance, offering a level of flexibility and robustness previously unseen in traditional optimization methods.\n",
    "\n",
    "2. **Theoretical Foundations**:\n",
    "   We provide a rigorous mathematical analysis of ASE's convergence properties, establishing a solid theoretical foundation for the method. Our analysis demonstrates that ASE converges to the global optimum with high probability, offering guarantees that are crucial for its adoption in critical applications. This theoretical work not only validates ASE's performance but also contributes to the broader understanding of ensemble-based optimization techniques.\n",
    "\n",
    "3. **Empirical Validation**:\n",
    "   Our comprehensive experiments on the Digits and Breast Cancer datasets offer compelling evidence of ASE's practical effectiveness. Key findings include:\n",
    "   - Stability: ASE demonstrated significantly lower variance in performance (σ_Digits = 0.0089, σ_BreastCancer = 0.0071) compared to RS (σ_Digits = 0.1247, σ_BreastCancer = 0.0918), indicating superior reliability.\n",
    "   - Convergence Speed: ASE reached 95% of its maximum accuracy in fewer iterations (Digits: 8.3, Breast Cancer: 3.7) compared to RS (Digits: 26.7, Breast Cancer: 7.2), showcasing its efficiency.\n",
    "   - Accuracy: ASE consistently outperformed RS, with mean accuracy differences of 0.0342 for Digits and 0.0152 for Breast Cancer.\n",
    "   These results underscore ASE's versatility across different problem types and data characteristics, a crucial factor for real-world applications.\n",
    "\n",
    "4. **Exploration-Exploitation Balance**:\n",
    "   ASE demonstrates a superior ability to balance exploration and exploitation in the hyperparameter space. By dynamically adjusting the weights of its constituent models, ASE efficiently focuses on promising regions while maintaining sufficient exploration. This balance leads to faster convergence and more stable performance compared to random search, addressing a fundamental challenge in optimization.\n",
    "\n",
    "5. **Scalability Insights**:\n",
    "   While our study focused on datasets of moderate size, ASE's performance across different feature dimensionalities (Digits: 64 features, Breast Cancer: 30 features) provides initial insights into its scalability potential. This lays the groundwork for future investigations into ASE's applicability to larger, more complex optimization problems."
   ]
  },
  {
   "cell_type": "markdown",
   "id": "5900126b-3ebf-4a90-a40c-95a15c122418",
   "metadata": {},
   "source": [
    "<style>\n",
    "    body {\n",
    "        font-family: \"Times New Roman\", Times, serif;\n",
    "        font-size: 6px;\n",
    "    }\n",
    "</style>"
   ]
  },
  {
   "cell_type": "markdown",
   "id": "5bdf488f-f7a6-4b94-ac29-92b7c490aef7",
   "metadata": {},
   "source": [
    "### 6.1 Summary of Contributions\n",
    "<style>\n",
    "    body {\n",
    "        font-family: \"Times New Roman\", Times, serif;\n",
    "        font-size: 12px;\n",
    "    }\n",
    "</style>"
   ]
  },
  {
   "cell_type": "markdown",
   "id": "e234700f-21b2-485c-b91a-49de34e856ba",
   "metadata": {},
   "source": [
    "<style>\n",
    "    body {\n",
    "        font-family: \"Times New Roman\", Times, serif;\n",
    "        font-size: 6px;\n",
    "    }\n",
    "</style>"
   ]
  },
  {
   "cell_type": "markdown",
   "id": "751c5812-1cd1-4de1-b5dc-ceb3d0c094a4",
   "metadata": {},
   "source": [
    "<style>\n",
    "    body {\n",
    "        font-family: \"Times New Roman\", Times, serif;\n",
    "        font-size: 11px;\n",
    "    }\n",
    "</style>\n",
    "1. **Novel Ensemble Approach**: \n",
    "   ASE represents a pioneering approach to hyperparameter optimization, leveraging an adaptive ensemble of surrogate models. By combining Gaussian Processes, Random Forests, and Gradient Boosting Machines, ASE adapts dynamically to the characteristics of the search space. This adaptivity allows ASE to capture complex, non-linear relationships between hyperparameters and model performance, offering a level of flexibility and robustness previously unseen in traditional optimization methods.\n",
    "\n",
    "2. **Theoretical Foundations**:\n",
    "   We provide a rigorous mathematical analysis of ASE's convergence properties, establishing a solid theoretical foundation for the method. Our analysis demonstrates that ASE converges to the global optimum with high probability, offering guarantees that are crucial for its adoption in critical applications. This theoretical work not only validates ASE's performance but also contributes to the broader understanding of ensemble-based optimization techniques.\n",
    "\n",
    "3. **Empirical Validation**:\n",
    "   Our comprehensive experiments on the Digits and Breast Cancer datasets offer compelling evidence of ASE's practical effectiveness. Key findings include:\n",
    "   - Stability: ASE demonstrated significantly lower variance in performance (σ_Digits = 0.0089, σ_BreastCancer = 0.0071) compared to RS (σ_Digits = 0.1247, σ_BreastCancer = 0.0918), indicating superior reliability.\n",
    "   - Convergence Speed: ASE reached 95% of its maximum accuracy in fewer iterations (Digits: 8.3, Breast Cancer: 3.7) compared to RS (Digits: 26.7, Breast Cancer: 7.2), showcasing its efficiency.\n",
    "   - Accuracy: ASE consistently outperformed RS, with mean accuracy differences of 0.0342 for Digits and 0.0152 for Breast Cancer.\n",
    "   These results underscore ASE's versatility across different problem types and data characteristics, a crucial factor for real-world applications.\n",
    "\n",
    "4. **Exploration-Exploitation Balance**:\n",
    "   ASE demonstrates a superior ability to balance exploration and exploitation in the hyperparameter space. By dynamically adjusting the weights of its constituent models, ASE efficiently focuses on promising regions while maintaining sufficient exploration. This balance leads to faster convergence and more stable performance compared to random search, addressing a fundamental challenge in optimization.\n",
    "\n",
    "5. **Scalability Insights**:\n",
    "   While our study focused on datasets of moderate size, ASE's performance across different feature dimensionalities (Digits: 64 features, Breast Cancer: 30 features) provides initial insights into its scalability potential. This lays the groundwork for future investigations into ASE's applicability to larger, more complex optimization problems."
   ]
  },
  {
   "cell_type": "markdown",
   "id": "6ff8a681-0c00-426d-884b-286f29805724",
   "metadata": {},
   "source": [
    "<style>\n",
    "    body {\n",
    "        font-family: \"Times New Roman\", Times, serif;\n",
    "        font-size: 6px;\n",
    "    }\n",
    "</style>"
   ]
  },
  {
   "cell_type": "markdown",
   "id": "7dcaad11-6d0f-44f5-94ee-036b532ddef4",
   "metadata": {},
   "source": [
    "### 6.2 Implications for AutoML and Machine Learning Practice\n",
    "<style>\n",
    "    body {\n",
    "        font-family: \"Times New Roman\", Times, serif;\n",
    "        font-size: 12px;\n",
    "    }\n",
    "</style>"
   ]
  },
  {
   "cell_type": "markdown",
   "id": "fb3d9c5b-b6c0-485f-813e-4d7c11156697",
   "metadata": {},
   "source": [
    "<style>\n",
    "    body {\n",
    "        font-family: \"Times New Roman\", Times, serif;\n",
    "        font-size: 6px;\n",
    "    }\n",
    "</style>"
   ]
  },
  {
   "cell_type": "markdown",
   "id": "a2f860f6-6cab-4441-8c2a-e3ecdda85224",
   "metadata": {},
   "source": [
    "<style>\n",
    "    body {\n",
    "        font-family: \"Times New Roman\", Times, serif;\n",
    "        font-size: 11px;\n",
    "    }\n",
    "</style>\n",
    "The development and validation of ASE have several important implications for the field of AutoML and machine learning practice:\n",
    "\n",
    "1. **Efficiency in Resource-Constrained Environments**: ASE's rapid convergence and stability make it particularly valuable in settings where computational resources are limited, potentially democratizing access to sophisticated model tuning.\n",
    "\n",
    "2. **Reliability in Industrial Applications**: The consistency of ASE's performance addresses a critical need in industrial machine learning applications, where reliability and reproducibility are paramount.\n",
    "\n",
    "3. **Adaptability Across Domains**: ASE's strong performance across different types of classification problems suggests its potential as a versatile tool applicable to a wide range of machine learning tasks.\n",
    "\n",
    "4. **Advancement of Ensemble Methods**: The success of ASE contributes to the growing body of evidence supporting the efficacy of ensemble methods in various aspects of machine learning, beyond just model building."
   ]
  },
  {
   "cell_type": "markdown",
   "id": "34b812b7-2ca4-49d4-a1c2-6a1d2e45d2b2",
   "metadata": {},
   "source": [
    "<style>\n",
    "    body {\n",
    "        font-family: \"Times New Roman\", Times, serif;\n",
    "        font-size: 6px;\n",
    "    }\n",
    "</style>"
   ]
  },
  {
   "cell_type": "markdown",
   "id": "cae6751a-0cf9-4c9d-aa74-450325b176bb",
   "metadata": {},
   "source": [
    "### 6.3 Future Research Directions\n",
    "<style>\n",
    "    body {\n",
    "        font-family: \"Times New Roman\", Times, serif;\n",
    "        font-size: 12px;\n",
    "    }\n",
    "</style>"
   ]
  },
  {
   "cell_type": "markdown",
   "id": "97ef58be-8c66-4545-8c58-2e0b29f6279f",
   "metadata": {},
   "source": [
    "<style>\n",
    "    body {\n",
    "        font-family: \"Times New Roman\", Times, serif;\n",
    "        font-size: 6px;\n",
    "    }\n",
    "</style>"
   ]
  },
  {
   "cell_type": "markdown",
   "id": "97f8dbce-85ab-440f-8006-d0bc75436e81",
   "metadata": {},
   "source": [
    "<style>\n",
    "    body {\n",
    "        font-family: \"Times New Roman\", Times, serif;\n",
    "        font-size: 11px;\n",
    "    }\n",
    "</style>\n",
    "While ASE represents a significant step forward, it also opens up several exciting avenues for future research:\n",
    "\n",
    "1. **Scalability Studies**: \n",
    "   - Objective: Evaluate and enhance ASE's performance on high-dimensional hyperparameter spaces and large-scale datasets.\n",
    "   - Approach: Test ASE on deep learning models with hundreds of hyperparameters and datasets with millions of samples.\n",
    "   - Potential Impact: Establishing ASE's efficacy in large-scale scenarios could dramatically improve the efficiency of complex model tuning.\n",
    "\n",
    "2. **Multi-fidelity Optimization Integration**:\n",
    "   - Objective: Incorporate multi-fidelity evaluation strategies to further improve ASE's computational efficiency.\n",
    "   - Approach: Integrate concepts from methods like Hyperband or BOHB, allowing ASE to adaptively allocate resources based on early performance indicators.\n",
    "   - Potential Impact: This could significantly reduce the computational cost of hyperparameter optimization, especially for resource-intensive models.\n",
    "\n",
    "3. **Constrained and Multi-objective Optimization**:\n",
    "   - Objective: Extend ASE to handle constrained optimization problems and balance multiple objectives.\n",
    "   - Approach: Develop new acquisition functions that can incorporate constraints and balance multiple, possibly conflicting, objectives.\n",
    "   - Potential Impact: This would broaden ASE's applicability to a wider range of real-world scenarios where multiple performance criteria must be considered simultaneously.\n",
    "\n",
    "4. **Neural Architecture Search Integration**:\n",
    "   - Objective: Investigate the synergy between ASE and neural architecture search techniques.\n",
    "   - Approach: Develop a unified framework that jointly optimizes model architectures and hyperparameters.\n",
    "   - Potential Impact: This could lead to more comprehensive AutoML systems capable of designing and tuning neural networks end-to-end.\n",
    "\n",
    "5. **Theoretical Advancements**:\n",
    "   - Objective: Expand the theoretical guarantees for ASE's performance under various assumptions about the objective function.\n",
    "   - Approach: Conduct rigorous mathematical analyses of ASE's behavior in different types of optimization landscapes.\n",
    "   - Potential Impact: Stronger theoretical foundations could provide insights into when and why ASE outperforms other methods, guiding its application and further development.\n",
    "\n",
    "6. **Transfer Learning in Hyperparameter Optimization**:\n",
    "   - Objective: Leverage knowledge from previous optimization tasks to improve ASE's performance on new, related problems.\n",
    "   - Approach: Develop methods for transferring and adapting surrogate models or search strategies across related tasks.\n",
    "   - Potential Impact: This could significantly speed up optimization in scenarios where similar machine learning problems are encountered repeatedly, a common situation in many industrial applications.\n",
    "\n",
    "7. **Interpretability and Visualization**:\n",
    "   - Objective: Enhance the interpretability of ASE's decision-making process and develop visualization tools for the optimization process.\n",
    "   - Approach: Create methods to explain ASE's choices and design interactive visualizations of the hyperparameter space exploration.\n",
    "   - Potential Impact: Improved interpretability could increase trust in ASE's results and provide insights into the structure of hyperparameter spaces.\n",
    "\n",
    "8. **Robustness to Noisy Evaluations**:\n",
    "   - Objective: Improve ASE's performance in scenarios where hyperparameter evaluations are noisy or inconsistent.\n",
    "   - Approach: Develop noise-robust variants of ASE that can handle stochastic objective functions.\n",
    "   - Potential Impact: This could extend ASE's applicability to domains where evaluations are inherently noisy, such as reinforcement learning or simulation-based optimization.\n",
    "\n",
    "In conclusion, the Adaptive Surrogate Ensemble method represents a significant advancement in hyperparameter optimization, offering a flexible, efficient, and theoretically grounded approach that outperforms traditional methods like Random Search. As machine learning models continue to grow in complexity, techniques like ASE will play a crucial role in enabling researchers and practitioners to harness the full potential of these models while effectively managing computational resources.\n",
    "\n",
    "The promising results and identified future directions position ASE and similar adaptive methods at the forefront of efforts to advance AutoML. By addressing key challenges in hyperparameter optimization, ASE has the potential to democratize access to sophisticated machine learning techniques, making them more accessible and practical for a wider range of applications and users.\n",
    "\n",
    "As we look to the future, the continued development and refinement of methods like ASE will be instrumental in realizing the full potential of artificial intelligence and machine learning across diverse domains. From healthcare and scientific discovery to industrial optimization and beyond, the impact of more efficient, reliable, and adaptable hyperparameter optimization techniques promises to be far-reaching and transformative. a wide range of applications."
   ]
  },
  {
   "cell_type": "markdown",
   "id": "11d3ce09-1d7c-469c-8518-eb4d4f6ee3e4",
   "metadata": {},
   "source": [
    "<style>\n",
    "    body {\n",
    "        font-family: \"Times New Roman\", Times, serif;\n",
    "        font-size: 12px;\n",
    "    }\n",
    "</style>"
   ]
  },
  {
   "cell_type": "markdown",
   "id": "b09f22bf-9181-41c2-b775-1b0cd40f15a6",
   "metadata": {},
   "source": [
    "## References\n",
    "<style>\n",
    "    body {\n",
    "        font-family: \"Times New Roman\", Times, serif;\n",
    "        font-size: 13px;\n",
    "    }\n",
    "</style>"
   ]
  },
  {
   "cell_type": "markdown",
   "id": "a3abe7ef-1492-4e52-9482-81c6a18642f2",
   "metadata": {},
   "source": [
    "<style>\n",
    "    body {\n",
    "        font-family: \"Times New Roman\", Times, serif;\n",
    "        font-size: 6px;\n",
    "    }\n",
    "</style>"
   ]
  },
  {
   "cell_type": "markdown",
   "id": "fc86e55d-6413-4327-b5b8-c5dbe4a4ac65",
   "metadata": {},
   "source": [
    "<style>\n",
    "    body {\n",
    "        font-family: \"Times New Roman\", Times, serif;\n",
    "        font-size: 11px;\n",
    "    }\n",
    "</style>\n",
    "[1] Archetti, F., & Candelieri, A. (2019). \"Bayesian Optimization and Data Science.\" arXiv:1904.05671.\n",
    "\n",
    "[2] Li, L., et al. (2020). \"System and Algorithm Co-Optimization for Efficient Multi-Fidelity Hyperparameter Tuning.\" arXiv:2009.07915.\n",
    "\n",
    "[3] Klein, A., et al. (2017). \"Fast Bayesian Optimization of Machine Learning Hyperparameters on Large Datasets.\" arXiv:1605.07079.\n",
    "\n",
    "[4] Ru, B., et al. (2020). \"Bayesian Optimisation over Multiple Continuous and Categorical Inputs.\" arXiv:2006.04894.\n",
    "\n",
    "[5] Jenatton, R., et al. (2017). \"Bayesian Optimization with Tree-structured Dependencies.\" arXiv:1703.01785.\n",
    "\n",
    "[6] Wang, R., et al. (2021). \"NASI: Label- and Data-Efficient Neural Architecture Search with Importance Sampling.\" arXiv:2105.11342.\n",
    "\n",
    "[7] Bergstra, J., & Bengio, Y. (2012). Random search for hyper-parameter optimization. Journal of Machine Learning Research, 13(Feb), 281-305.\n",
    "\n",
    "[8] Snoek, J., Larochelle, H., & Adams, R. P. (2012). Practical bayesian optimization of machine learning algorithms. Advances in Neural Information Processing Systems, 25.\n",
    "\n",
    "[9] Real, E., Moore, S., Selle, A., Saxena, S., Suematsu, Y. L., Tan, J., ... & Kurakin, A. (2017). Large-scale evolution of image classifiers. International Conference on Machine Learning, 2902-2911.\n",
    "\n",
    "[10] Li, L., Jamieson, K., DeSalvo, G., Rostamizadeh, A., & Talwalkar, A. (2017). Hyperband: A novel bandit-based approach to hyperparameter optimization. The Journal of Machine Learning Research, 18(1), 6765-6816.\n",
    "\n",
    "[11] Falkner, S., Klein, A., & Hutter, F. (2018). BOHB: Robust and efficient hyperparameter optimization at scale. International Conference on Machine Learning, 1437-1446.\n",
    "\n",
    "[12] Wang, J., Xu, J., & Wang, X. (2021). Combination of hyperband and bayesian optimization for hyperparameter optimization in deep learning. arXiv preprint arXiv:2101.11784.\n",
    "\n",
    "[13] Shahriari, B., Swersky, K., Wang, Z., Adams, R. P., & De Freitas, N. (2015). Taking the human out of the loop: A review of Bayesian optimization. Proceedings of the IEEE, 104(1), 148-175.\n",
    "\n",
    "[14] Feurer, M., & Hutter, F. (2019). Hyperparameter optimization. In Automated Machine Learning (pp. 3-33). Springer, Cham.\n",
    "\n",
    "[15] Klein, A., Falkner, S., Bartels, S., Hennig, P., & Hutter, F. (2017). Fast Bayesian optimization of machine learning hyperparameters on large datasets. Artificial Intelligence and Statistics, 528-536.\n",
    "\n",
    "[16] Loshchilov, I., & Hutter, F. (2016). CMA-ES for hyperparameter optimization of deep neural networks. arXiv preprint arXiv:1604.07269."
   ]
  }
 ],
 "metadata": {
  "kernelspec": {
   "display_name": "Python 3 (ipykernel)",
   "language": "python",
   "name": "python3"
  },
  "language_info": {
   "codemirror_mode": {
    "name": "ipython",
    "version": 3
   },
   "file_extension": ".py",
   "mimetype": "text/x-python",
   "name": "python",
   "nbconvert_exporter": "python",
   "pygments_lexer": "ipython3",
   "version": "3.11.7"
  }
 },
 "nbformat": 4,
 "nbformat_minor": 5
}
